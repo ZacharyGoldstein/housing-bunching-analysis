{
 "cells": [
  {
   "cell_type": "code",
   "execution_count": 20,
   "metadata": {},
   "outputs": [
    {
     "name": "stderr",
     "output_type": "stream",
     "text": [
      "<ipython-input-20-97885315f112>:5: DeprecationWarning: executable_path has been deprecated, please pass in a Service object\n",
      "  driver = webdriver.Chrome(\"../../Data Science/chromedriver\")\n"
     ]
    }
   ],
   "source": [
    "from selenium import webdriver\n",
    "from selenium.webdriver.common.keys import Keys\n",
    "from selenium.webdriver.common.by import By\n",
    "\n",
    "driver = webdriver.Chrome(\"../../Data Science/chromedriver\")"
   ]
  },
  {
   "cell_type": "code",
   "execution_count": 119,
   "metadata": {},
   "outputs": [],
   "source": [
    "base_url = \"http://apartments.com/seattle-wa\"\n",
    "driver.get(base_url)"
   ]
  },
  {
   "cell_type": "code",
   "execution_count": 26,
   "metadata": {},
   "outputs": [],
   "source": [
    "#search_bar = driver.find_element(By.ID,\"quickSearchLookup\")"
   ]
  },
  {
   "cell_type": "code",
   "execution_count": 125,
   "metadata": {},
   "outputs": [
    {
     "data": {
      "text/plain": [
       "28"
      ]
     },
     "execution_count": 125,
     "metadata": {},
     "output_type": "execute_result"
    }
   ],
   "source": [
    "page_range = driver.find_element(By.CLASS_NAME,\"pageRange\").text\n",
    "n_pages = int(page_range.split()[-1])"
   ]
  },
  {
   "cell_type": "code",
   "execution_count": 90,
   "metadata": {},
   "outputs": [],
   "source": [
    "all_links = []\n",
    "for x in range(1,n_pages+1):\n",
    "    driver.get(f\"{base_url}/{x}/\")\n",
    "    link_elements = driver.find_elements(By.CLASS_NAME,'property-link')\n",
    "    links = [x.get_attribute(\"href\") for x in link_elements]\n",
    "    all_links.extend(links)"
   ]
  },
  {
   "cell_type": "code",
   "execution_count": 91,
   "metadata": {},
   "outputs": [],
   "source": [
    "link_1 = driver.get(all_links[0])"
   ]
  },
  {
   "cell_type": "code",
   "execution_count": 92,
   "metadata": {},
   "outputs": [
    {
     "data": {
      "text/plain": [
       "'Built in 2022'"
      ]
     },
     "execution_count": 92,
     "metadata": {},
     "output_type": "execute_result"
    }
   ],
   "source": [
    "built_date = driver.find_element(By.XPATH,\"//div[contains( text( ), 'Built in')]\").text\n",
    "built_date"
   ]
  },
  {
   "cell_type": "code",
   "execution_count": 107,
   "metadata": {},
   "outputs": [
    {
     "data": {
      "text/plain": [
       "'118 units/5 stories'"
      ]
     },
     "execution_count": 107,
     "metadata": {},
     "output_type": "execute_result"
    }
   ],
   "source": [
    "unit_counts = driver.find_elements(By.XPATH,\"//div[contains( text( ), 'unit')]\")\n",
    "unit_count = [x.text for x in unit_counts if \"available\" not in x.text.lower() and 'unit' in x.text.lower()][0]\n",
    "unit_count"
   ]
  },
  {
   "cell_type": "code",
   "execution_count": 118,
   "metadata": {},
   "outputs": [
    {
     "name": "stdout",
     "output_type": "stream",
     "text": [
      "4106 N Stone Way, Seattle, WA 98103\n",
      "Wallingford\n"
     ]
    }
   ],
   "source": [
    "address_elem = driver.find_elements(By.CLASS_NAME,\"propertyAddressContainer\")\n",
    "address,neighborhood = address_elem[0].text.split(\"\\n\")\n",
    "print(address)\n",
    "print(neighborhood)"
   ]
  },
  {
   "cell_type": "code",
   "execution_count": null,
   "metadata": {},
   "outputs": [],
   "source": []
  },
  {
   "cell_type": "code",
   "execution_count": null,
   "metadata": {},
   "outputs": [],
   "source": []
  }
 ],
 "metadata": {
  "kernelspec": {
   "display_name": "Python 3",
   "language": "python",
   "name": "python3"
  },
  "language_info": {
   "codemirror_mode": {
    "name": "ipython",
    "version": 3
   },
   "file_extension": ".py",
   "mimetype": "text/x-python",
   "name": "python",
   "nbconvert_exporter": "python",
   "pygments_lexer": "ipython3",
   "version": "3.8.5"
  }
 },
 "nbformat": 4,
 "nbformat_minor": 4
}

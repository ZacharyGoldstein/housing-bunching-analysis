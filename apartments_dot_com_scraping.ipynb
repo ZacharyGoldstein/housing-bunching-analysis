{
 "cells": [
  {
   "cell_type": "code",
   "execution_count": null,
   "metadata": {},
   "outputs": [],
   "source": [
    "import pandas as pd\n",
    "from tqdm import tqdm\n",
    "from plotnine import *"
   ]
  },
  {
   "cell_type": "code",
   "execution_count": null,
   "metadata": {},
   "outputs": [],
   "source": [
    "from selenium import webdriver\n",
    "from selenium.webdriver.common.keys import Keys\n",
    "from selenium.webdriver.common.by import By\n",
    "\n",
    "driver = webdriver.Chrome(\"../../Data Science/chromedriver\")"
   ]
  },
  {
   "cell_type": "code",
   "execution_count": null,
   "metadata": {},
   "outputs": [],
   "source": [
    "wa_cities_page = \"https://www.apartments.com/sitemap/washington/cities/\"\n",
    "driver.get(wa_cities_page)"
   ]
  },
  {
   "cell_type": "code",
   "execution_count": null,
   "metadata": {},
   "outputs": [],
   "source": [
    "hrefs = driver.find_elements(By.XPATH,\"//a[@href]\")\n",
    "wa_city_links = []\n",
    "for x in hrefs:\n",
    "    link = x.get_attribute(\"href\")\n",
    "    if link.endswith(\"-wa/\"):\n",
    "        wa_city_links.append(link)\n",
    "wa_city_links = sorted(list(set(wa_city_links)))\n",
    "wa_city_links[:10]"
   ]
  },
  {
   "cell_type": "code",
   "execution_count": null,
   "metadata": {},
   "outputs": [],
   "source": [
    "def get_single_property_info(driver,link):\n",
    "        driver.get(link)\n",
    "        try: built_date = driver.find_element(By.XPATH,\"//div[contains( text( ), 'Built in')]\").text\n",
    "        except: built_date = None\n",
    "        try: \n",
    "            unit_counts = driver.find_elements(By.XPATH,\"//div[contains( text( ), 'unit')]\")\n",
    "            unit_count = [x.text for x in unit_counts if \"available\" not in x.text.lower() and 'units' in x.text.lower()][0]\n",
    "        except:\n",
    "            unit_count = None\n",
    "        property_name = driver.find_element(By.ID,'propertyName').text\n",
    "        try:\n",
    "            address_elem = driver.find_elements(By.CLASS_NAME,\"propertyAddressContainer\")\n",
    "            address,neighborhood = address_elem[0].text.split(\"\\n\")\n",
    "        except:\n",
    "            neighborhood = driver.find_element(By.CLASS_NAME,'neighborhood').text\n",
    "            address = property_name\n",
    "        single_property_info = {'built_date':built_date,'unit_count':unit_count,'address':address,\n",
    "                                'neighborhood':neighborhood,'property_name':property_name}\n",
    "        return(single_property_info)"
   ]
  },
  {
   "cell_type": "code",
   "execution_count": null,
   "metadata": {},
   "outputs": [],
   "source": [
    "all_property_info = dict()\n",
    "all_property_links = []\n",
    "# Loop through cities\n",
    "for i in tqdm(range(len(wa_city_links))):\n",
    "    city_link = wa_city_links[i]\n",
    "    # Apartments/condos only\n",
    "    city_link = city_link.replace(\"apartments.com/\",\"apartments.com/apartments-condos/\")\n",
    "    driver.get(city_link)\n",
    "    # Check for no results\n",
    "    try:\n",
    "        no_results_text = driver.find_element(By.CLASS_NAME,\"no-results\").text\n",
    "        if \"NO RESULTS FOUND\" in no_results_text:\n",
    "            #print(\"No results found\",city_link)\n",
    "            continue\n",
    "    except:\n",
    "        pass\n",
    "    # Get count of pages for each city\n",
    "    try:\n",
    "        page_range = driver.find_element(By.CLASS_NAME,\"pageRange\").text\n",
    "        n_pages = int(page_range.split()[-1])\n",
    "    except:\n",
    "        n_pages = 1\n",
    "    # Loop through pages of listings to get property links\n",
    "    for x in range(1,n_pages+1):\n",
    "        driver.get(f\"{city_link}{x}/\")\n",
    "        link_elements = driver.find_elements(By.CLASS_NAME,'property-link')\n",
    "        property_links = [x.get_attribute(\"href\") for x in link_elements]\n",
    "        all_property_links.extend(property_links)"
   ]
  },
  {
   "cell_type": "code",
   "execution_count": null,
   "metadata": {},
   "outputs": [],
   "source": [
    "# Drop dupes\n",
    "all_property_links = list(set(all_property_links))\n",
    "# Loop through properties\n",
    "for i in tqdm(range(len(all_property_links))):\n",
    "    link = all_property_links[i]\n",
    "    all_property_info[link] = get_single_property_info(driver,link)"
   ]
  },
  {
   "cell_type": "code",
   "execution_count": null,
   "metadata": {},
   "outputs": [],
   "source": [
    "df_wa_property_info = pd.DataFrame(all_property_info).T.reset_index(names=\"url\")\n",
    "df_wa_property_info['built_year'] = df_wa_property_info['built_date'].apply(lambda x: int(x[-4:]) if x!=None and x[-4:].isnumeric() else None)\n",
    "df_wa_property_info['units'] = df_wa_property_info['unit_count'].apply(lambda x: int(x.split(\" units\")[0]) if x!= None and \" units\" in x and x.split(\" units\")[0].isnumeric() else None)\n",
    "df_wa_property_info['stories'] = df_wa_property_info['unit_count'].apply(lambda x: int(x[x.find(\"/\")+1:].split(\" stories\")[0]) if x!=None and \" stories\" in x else None)\n",
    "print(df_wa_property_info.shape)\n",
    "df_wa_property_info.to_csv(\"data/wa_apartments_dot_com_listings.csv\",index=False)\n",
    "df_wa_property_info.head()"
   ]
  },
  {
   "cell_type": "code",
   "execution_count": null,
   "metadata": {},
   "outputs": [],
   "source": [
    "df_wa_property_info[df_wa_property_info['units'].isna()].shape"
   ]
  },
  {
   "cell_type": "code",
   "execution_count": null,
   "metadata": {},
   "outputs": [],
   "source": [
    "df_wa_property_info['built_year'].describe().astype(int)"
   ]
  },
  {
   "cell_type": "code",
   "execution_count": null,
   "metadata": {},
   "outputs": [],
   "source": [
    "df_wa_property_info['stories'].value_counts().sort_index().head(15)"
   ]
  },
  {
   "cell_type": "code",
   "execution_count": null,
   "metadata": {},
   "outputs": [],
   "source": [
    "wa_unit_count_freqs = pd.DataFrame(df_wa_property_info['units'].value_counts().sort_index()).reset_index()\n",
    "wa_unit_count_freqs.columns = ['units','buildings']\n",
    "(ggplot(wa_unit_count_freqs.query('units<400&units>0'),aes(x='units',y='buildings')) + \n",
    "geom_bar(stat='identity') +\n",
    "#scale_x_continuous(breaks=list(range(0,30,2))) +\n",
    "labs(x='Units per Apartment Building',y='Buildings',\n",
    "    title = 'Distribution of units per building: WA'))"
   ]
  },
  {
   "cell_type": "code",
   "execution_count": null,
   "metadata": {},
   "outputs": [],
   "source": [
    "wa_unit_count_freqs.sort_values(\"buildings\",ascending=False).head(10)"
   ]
  },
  {
   "cell_type": "markdown",
   "metadata": {},
   "source": [
    "# Single City Testing"
   ]
  },
  {
   "cell_type": "code",
   "execution_count": null,
   "metadata": {},
   "outputs": [],
   "source": [
    "# base_url = \"http://apartments.com/seattle-wa\"\n",
    "# driver.get(base_url)"
   ]
  },
  {
   "cell_type": "code",
   "execution_count": null,
   "metadata": {},
   "outputs": [],
   "source": [
    "#search_bar = driver.find_element(By.ID,\"quickSearchLookup\")"
   ]
  },
  {
   "cell_type": "code",
   "execution_count": null,
   "metadata": {},
   "outputs": [],
   "source": [
    "# page_range = driver.find_element(By.CLASS_NAME,\"pageRange\").text\n",
    "# n_pages = int(page_range.split()[-1])"
   ]
  },
  {
   "cell_type": "code",
   "execution_count": null,
   "metadata": {},
   "outputs": [],
   "source": [
    "# all_links = []\n",
    "# for x in range(1,n_pages+1):\n",
    "#     driver.get(f\"{base_url}/{x}/\")\n",
    "#     link_elements = driver.find_elements(By.CLASS_NAME,'property-link')\n",
    "#     links = [x.get_attribute(\"href\") for x in link_elements]\n",
    "#     all_links.extend(links)"
   ]
  },
  {
   "cell_type": "code",
   "execution_count": null,
   "metadata": {},
   "outputs": [],
   "source": [
    "# built_date = driver.find_element(By.XPATH,\"//div[contains( text( ), 'Built in')]\").text\n",
    "# built_date"
   ]
  },
  {
   "cell_type": "code",
   "execution_count": null,
   "metadata": {},
   "outputs": [],
   "source": [
    "# unit_counts = driver.find_elements(By.XPATH,\"//div[contains( text( ), 'unit')]\")\n",
    "# unit_count = [x.text for x in unit_counts if \"available\" not in x.text.lower() and 'unit' in x.text.lower()][0]\n",
    "# unit_count"
   ]
  },
  {
   "cell_type": "code",
   "execution_count": null,
   "metadata": {},
   "outputs": [],
   "source": [
    "# address_elem = driver.find_elements(By.CLASS_NAME,\"propertyAddressContainer\")\n",
    "# address,neighborhood = address_elem[0].text.split(\"\\n\")\n",
    "# print(address)\n",
    "# print(neighborhood)"
   ]
  },
  {
   "cell_type": "code",
   "execution_count": null,
   "metadata": {},
   "outputs": [],
   "source": [
    "#driver.find_element(By.CLASS_NAME,'propertyName').get_attribute(\"innerHTML\")"
   ]
  },
  {
   "cell_type": "code",
   "execution_count": null,
   "metadata": {},
   "outputs": [],
   "source": []
  },
  {
   "cell_type": "code",
   "execution_count": null,
   "metadata": {},
   "outputs": [],
   "source": []
  }
 ],
 "metadata": {
  "kernelspec": {
   "display_name": "Python 3",
   "language": "python",
   "name": "python3"
  },
  "language_info": {
   "codemirror_mode": {
    "name": "ipython",
    "version": 3
   },
   "file_extension": ".py",
   "mimetype": "text/x-python",
   "name": "python",
   "nbconvert_exporter": "python",
   "pygments_lexer": "ipython3",
   "version": "3.8.5"
  }
 },
 "nbformat": 4,
 "nbformat_minor": 4
}

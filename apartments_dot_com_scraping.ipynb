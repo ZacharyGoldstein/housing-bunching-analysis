{
 "cells": [
  {
   "cell_type": "code",
   "execution_count": 1,
   "metadata": {},
   "outputs": [],
   "source": [
    "import pandas as pd"
   ]
  },
  {
   "cell_type": "code",
   "execution_count": 3,
   "metadata": {},
   "outputs": [
    {
     "name": "stderr",
     "output_type": "stream",
     "text": [
      "<ipython-input-3-b030b2f9e5e3>:5: DeprecationWarning: executable_path has been deprecated, please pass in a Service object\n",
      "  driver = webdriver.Chrome(\"../../Data Science/chromedriver\")\n"
     ]
    }
   ],
   "source": [
    "from selenium import webdriver\n",
    "from selenium.webdriver.common.keys import Keys\n",
    "from selenium.webdriver.common.by import By\n",
    "\n",
    "driver = webdriver.Chrome(\"../../Data Science/chromedriver\")"
   ]
  },
  {
   "cell_type": "code",
   "execution_count": 4,
   "metadata": {},
   "outputs": [],
   "source": [
    "wa_cities_page = \"https://www.apartments.com/sitemap/washington/cities/\"\n",
    "driver.get(wa_cities_page)"
   ]
  },
  {
   "cell_type": "code",
   "execution_count": 5,
   "metadata": {},
   "outputs": [
    {
     "data": {
      "text/plain": [
       "['https://www.apartments.com/seattle-wa/',\n",
       " 'https://www.apartments.com/aberdeen-wa/',\n",
       " 'https://www.apartments.com/airway-heights-wa/',\n",
       " 'https://www.apartments.com/allyn-wa/',\n",
       " 'https://www.apartments.com/amboy-wa/',\n",
       " 'https://www.apartments.com/anacortes-wa/',\n",
       " 'https://www.apartments.com/arlington-wa/',\n",
       " 'https://www.apartments.com/auburn-wa/',\n",
       " 'https://www.apartments.com/bainbridge-island-wa/',\n",
       " 'https://www.apartments.com/battle-ground-wa/']"
      ]
     },
     "execution_count": 5,
     "metadata": {},
     "output_type": "execute_result"
    }
   ],
   "source": [
    "hrefs = driver.find_elements(By.XPATH,\"//a[@href]\")\n",
    "wa_city_links = []\n",
    "for x in hrefs:\n",
    "    link = x.get_attribute(\"href\")\n",
    "    if link.endswith(\"-wa/\"):\n",
    "        wa_city_links.append(link)\n",
    "wa_city_links[:10]"
   ]
  },
  {
   "cell_type": "code",
   "execution_count": 6,
   "metadata": {},
   "outputs": [],
   "source": [
    "def get_single_property_info(driver,link):\n",
    "        driver.get(link)\n",
    "        try: built_date = driver.find_element(By.XPATH,\"//div[contains( text( ), 'Built in')]\").text\n",
    "        except: built_date = None\n",
    "        try: \n",
    "            unit_counts = driver.find_elements(By.XPATH,\"//div[contains( text( ), 'unit')]\")\n",
    "            unit_count = [x.text for x in unit_counts if \"available\" not in x.text.lower() and 'unit' in x.text.lower()][0]\n",
    "        except:\n",
    "            unit_count = None\n",
    "        property_name = driver.find_element(By.ID,'propertyName').text\n",
    "        try:\n",
    "            address_elem = driver.find_elements(By.CLASS_NAME,\"propertyAddressContainer\")\n",
    "            address,neighborhood = address_elem[0].text.split(\"\\n\")\n",
    "        except:\n",
    "            neighborhood = driver.find_element(By.CLASS_NAME,'neighborhood').text\n",
    "            address = property_name\n",
    "        single_property_info = {'built_date':built_date,'unit_count':unit_count,'address':address,\n",
    "                                'neighborhood':neighborhood,'property_name':property_name}\n",
    "        return(single_property_info)"
   ]
  },
  {
   "cell_type": "code",
   "execution_count": null,
   "metadata": {},
   "outputs": [],
   "source": [
    "all_property_info = dict()\n",
    "# Loop through cities\n",
    "for city_link in wa_city_links:\n",
    "    # Apartments/condos only\n",
    "    city_link = city_link.replace(\"apartments.com/\",\"apartments.com/apartments-condos/\")\n",
    "    driver.get(city_link)\n",
    "    # Check for no results\n",
    "    try:\n",
    "        no_results_text = driver.find_element(By.CLASS_NAME,\"no-results\").text\n",
    "        if \"NO RESULTS FOUND\" in no_results_text:\n",
    "            print(\"No results found\",city_link)\n",
    "            continue\n",
    "    except:\n",
    "        pass\n",
    "    # Get count of pages for each city\n",
    "    try:\n",
    "        page_range = driver.find_element(By.CLASS_NAME,\"pageRange\").text\n",
    "        n_pages = int(page_range.split()[-1])\n",
    "    except:\n",
    "        n_pages = 1\n",
    "    all_property_links = []\n",
    "    # Loop through pages of listings to get property links\n",
    "    for x in range(1,n_pages+1):\n",
    "        driver.get(f\"{city_link}{x}/\")\n",
    "        link_elements = driver.find_elements(By.CLASS_NAME,'property-link')\n",
    "        property_links = [x.get_attribute(\"href\") for x in link_elements]\n",
    "        all_property_links.extend(property_links)\n",
    "    # Loop through properties\n",
    "    for x in all_property_links:\n",
    "        all_property_info[x] = get_single_property_info(driver,x)"
   ]
  },
  {
   "cell_type": "code",
   "execution_count": null,
   "metadata": {},
   "outputs": [],
   "source": [
    "df_wa_property_info = pd.DataFrame(all_property_info).T.reset_index(names=\"url\")\n",
    "df_wa_property_info.head()"
   ]
  },
  {
   "cell_type": "code",
   "execution_count": null,
   "metadata": {},
   "outputs": [],
   "source": []
  },
  {
   "cell_type": "markdown",
   "metadata": {},
   "source": [
    "# Single City Testing"
   ]
  },
  {
   "cell_type": "code",
   "execution_count": 119,
   "metadata": {},
   "outputs": [],
   "source": [
    "base_url = \"http://apartments.com/seattle-wa\"\n",
    "driver.get(base_url)"
   ]
  },
  {
   "cell_type": "code",
   "execution_count": 26,
   "metadata": {},
   "outputs": [],
   "source": [
    "#search_bar = driver.find_element(By.ID,\"quickSearchLookup\")"
   ]
  },
  {
   "cell_type": "code",
   "execution_count": 125,
   "metadata": {},
   "outputs": [
    {
     "data": {
      "text/plain": [
       "28"
      ]
     },
     "execution_count": 125,
     "metadata": {},
     "output_type": "execute_result"
    }
   ],
   "source": [
    "page_range = driver.find_element(By.CLASS_NAME,\"pageRange\").text\n",
    "n_pages = int(page_range.split()[-1])"
   ]
  },
  {
   "cell_type": "code",
   "execution_count": 90,
   "metadata": {},
   "outputs": [],
   "source": [
    "all_links = []\n",
    "for x in range(1,n_pages+1):\n",
    "    driver.get(f\"{base_url}/{x}/\")\n",
    "    link_elements = driver.find_elements(By.CLASS_NAME,'property-link')\n",
    "    links = [x.get_attribute(\"href\") for x in link_elements]\n",
    "    all_links.extend(links)"
   ]
  },
  {
   "cell_type": "code",
   "execution_count": 92,
   "metadata": {},
   "outputs": [
    {
     "data": {
      "text/plain": [
       "'Built in 2022'"
      ]
     },
     "execution_count": 92,
     "metadata": {},
     "output_type": "execute_result"
    }
   ],
   "source": [
    "built_date = driver.find_element(By.XPATH,\"//div[contains( text( ), 'Built in')]\").text\n",
    "built_date"
   ]
  },
  {
   "cell_type": "code",
   "execution_count": 107,
   "metadata": {},
   "outputs": [
    {
     "data": {
      "text/plain": [
       "'118 units/5 stories'"
      ]
     },
     "execution_count": 107,
     "metadata": {},
     "output_type": "execute_result"
    }
   ],
   "source": [
    "unit_counts = driver.find_elements(By.XPATH,\"//div[contains( text( ), 'unit')]\")\n",
    "unit_count = [x.text for x in unit_counts if \"available\" not in x.text.lower() and 'unit' in x.text.lower()][0]\n",
    "unit_count"
   ]
  },
  {
   "cell_type": "code",
   "execution_count": 118,
   "metadata": {},
   "outputs": [
    {
     "name": "stdout",
     "output_type": "stream",
     "text": [
      "4106 N Stone Way, Seattle, WA 98103\n",
      "Wallingford\n"
     ]
    }
   ],
   "source": [
    "address_elem = driver.find_elements(By.CLASS_NAME,\"propertyAddressContainer\")\n",
    "address,neighborhood = address_elem[0].text.split(\"\\n\")\n",
    "print(address)\n",
    "print(neighborhood)"
   ]
  },
  {
   "cell_type": "code",
   "execution_count": 44,
   "metadata": {},
   "outputs": [
    {
     "data": {
      "text/plain": [
       "'\\n                    <span id=\"mediaGalleryModalLabel\">\\n                        171 E Allynview Dr <span class=\"screenReaderOnly\">media gallery</span>\\n                    </span>\\n                    <span id=\"mediaGalleryModalLabelEngrainUnitLabel\"><span> Unit</span><span id=\"engrainUnitId\"></span></span>\\n                '"
      ]
     },
     "execution_count": 44,
     "metadata": {},
     "output_type": "execute_result"
    }
   ],
   "source": [
    "#driver.find_element(By.CLASS_NAME,'propertyName').get_attribute(\"innerHTML\")"
   ]
  },
  {
   "cell_type": "code",
   "execution_count": null,
   "metadata": {},
   "outputs": [],
   "source": []
  },
  {
   "cell_type": "code",
   "execution_count": null,
   "metadata": {},
   "outputs": [],
   "source": []
  }
 ],
 "metadata": {
  "kernelspec": {
   "display_name": "Python 3",
   "language": "python",
   "name": "python3"
  },
  "language_info": {
   "codemirror_mode": {
    "name": "ipython",
    "version": 3
   },
   "file_extension": ".py",
   "mimetype": "text/x-python",
   "name": "python",
   "nbconvert_exporter": "python",
   "pygments_lexer": "ipython3",
   "version": "3.8.5"
  }
 },
 "nbformat": 4,
 "nbformat_minor": 4
}

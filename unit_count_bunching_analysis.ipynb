{
 "cells": [
  {
   "cell_type": "code",
   "execution_count": 186,
   "metadata": {},
   "outputs": [],
   "source": [
    "import pandas as pd\n",
    "from plotnine import *\n",
    "import os"
   ]
  },
  {
   "cell_type": "markdown",
   "metadata": {},
   "source": [
    "# Seattle Building Permits"
   ]
  },
  {
   "cell_type": "code",
   "execution_count": 2,
   "metadata": {},
   "outputs": [
    {
     "data": {
      "text/plain": [
       "(39133, 59)"
      ]
     },
     "execution_count": 2,
     "metadata": {},
     "output_type": "execute_result"
    }
   ],
   "source": [
    "df = pd.read_csv(\"Residential_Building_Permits_Issued_and_Final.csv\")\n",
    "df.shape"
   ]
  },
  {
   "cell_type": "code",
   "execution_count": 25,
   "metadata": {},
   "outputs": [
    {
     "data": {
      "text/plain": [
       "29556    ESTABLISH USE AS SFR (20), 2 APTS (19&78) 2 TO...\n",
       "37907    DEMOLISH ACCESSORY GARAGE AND STAIRS, ESTABLIS...\n",
       "28778    OF EXISTING APARTMENT BUILDING AND PARKING GAR...\n",
       "30767    CONSTRUCT 20 BLDGS, 2-SFR,2-APTS(B.F.),10 2-UN...\n",
       "29609    DEMOLISH TWO SINGLE FAMILY RESIDENCES; ESTABLI...\n",
       "27435    DEMOLISH SINGLE FAMILY RESIDENCES   ESTABLISH ...\n",
       "30417    DEMOLISH EXISTING SINGLE FAMILY RESIDENCE & SH...\n",
       "34125    ESTABLISH USE AS SINGLE FAMILY RESIDENCE  CONS...\n",
       "35276    DEMOLISH EXISTING SINGLE FAMILY RESIDENCE ESTA...\n",
       "30697    DEMOLISH EXISTING SINGLE FAMILY RESIDENCE, EST...\n",
       "Name: COMMENTS, dtype: object"
      ]
     },
     "execution_count": 25,
     "metadata": {},
     "output_type": "execute_result"
    }
   ],
   "source": [
    "df.query(\"APTYPE=='PTS'\")['COMMENTS'].sample(10)"
   ]
  },
  {
   "cell_type": "code",
   "execution_count": null,
   "metadata": {},
   "outputs": [],
   "source": [
    "# DWELTYPE, YEAR_ISSUED, NET_UNITS, TYPE_OCC, DEMO, YEAR_FINAL, TYPE_NAME, COMP_PLAN_TYPE"
   ]
  },
  {
   "cell_type": "code",
   "execution_count": 18,
   "metadata": {},
   "outputs": [
    {
     "data": {
      "text/html": [
       "<div>\n",
       "<style scoped>\n",
       "    .dataframe tbody tr th:only-of-type {\n",
       "        vertical-align: middle;\n",
       "    }\n",
       "\n",
       "    .dataframe tbody tr th {\n",
       "        vertical-align: top;\n",
       "    }\n",
       "\n",
       "    .dataframe thead th {\n",
       "        text-align: right;\n",
       "    }\n",
       "</style>\n",
       "<table border=\"1\" class=\"dataframe\">\n",
       "  <thead>\n",
       "    <tr style=\"text-align: right;\">\n",
       "      <th></th>\n",
       "      <th>DWELTYPE</th>\n",
       "      <th>YEAR_ISSUED</th>\n",
       "      <th>YEAR_FINAL</th>\n",
       "      <th>APTYPE</th>\n",
       "      <th>NET_UNITS</th>\n",
       "      <th>NEW</th>\n",
       "      <th>DEMO</th>\n",
       "      <th>TYPE_OCC</th>\n",
       "      <th>TYPE_NAME</th>\n",
       "    </tr>\n",
       "  </thead>\n",
       "  <tbody>\n",
       "    <tr>\n",
       "      <th>0</th>\n",
       "      <td>Accessory Dwelling, Attached</td>\n",
       "      <td>2010</td>\n",
       "      <td>2017.0</td>\n",
       "      <td>Construction Permit</td>\n",
       "      <td>1.0</td>\n",
       "      <td>1</td>\n",
       "      <td>0.0</td>\n",
       "      <td>ADU</td>\n",
       "      <td>Outside Villages</td>\n",
       "    </tr>\n",
       "    <tr>\n",
       "      <th>1</th>\n",
       "      <td>Apartment</td>\n",
       "      <td>2018</td>\n",
       "      <td>2021.0</td>\n",
       "      <td>Construction Permit</td>\n",
       "      <td>17.0</td>\n",
       "      <td>17</td>\n",
       "      <td>0.0</td>\n",
       "      <td>MF</td>\n",
       "      <td>Urban Center</td>\n",
       "    </tr>\n",
       "    <tr>\n",
       "      <th>2</th>\n",
       "      <td>Detached Single-Family</td>\n",
       "      <td>2020</td>\n",
       "      <td>2021.0</td>\n",
       "      <td>Construction Permit</td>\n",
       "      <td>1.0</td>\n",
       "      <td>1</td>\n",
       "      <td>0.0</td>\n",
       "      <td>SF</td>\n",
       "      <td>Outside Villages</td>\n",
       "    </tr>\n",
       "    <tr>\n",
       "      <th>3</th>\n",
       "      <td>Detached Single-Family</td>\n",
       "      <td>2019</td>\n",
       "      <td>2021.0</td>\n",
       "      <td>Construction Permit</td>\n",
       "      <td>1.0</td>\n",
       "      <td>1</td>\n",
       "      <td>0.0</td>\n",
       "      <td>SF</td>\n",
       "      <td>Outside Villages</td>\n",
       "    </tr>\n",
       "    <tr>\n",
       "      <th>4</th>\n",
       "      <td>Apartment</td>\n",
       "      <td>2020</td>\n",
       "      <td>2021.0</td>\n",
       "      <td>Construction Permit</td>\n",
       "      <td>1.0</td>\n",
       "      <td>1</td>\n",
       "      <td>0.0</td>\n",
       "      <td>MF</td>\n",
       "      <td>Urban Center Village</td>\n",
       "    </tr>\n",
       "  </tbody>\n",
       "</table>\n",
       "</div>"
      ],
      "text/plain": [
       "                       DWELTYPE  YEAR_ISSUED  YEAR_FINAL               APTYPE  \\\n",
       "0  Accessory Dwelling, Attached         2010      2017.0  Construction Permit   \n",
       "1                     Apartment         2018      2021.0  Construction Permit   \n",
       "2        Detached Single-Family         2020      2021.0  Construction Permit   \n",
       "3        Detached Single-Family         2019      2021.0  Construction Permit   \n",
       "4                     Apartment         2020      2021.0  Construction Permit   \n",
       "\n",
       "   NET_UNITS  NEW  DEMO TYPE_OCC             TYPE_NAME  \n",
       "0        1.0    1   0.0      ADU      Outside Villages  \n",
       "1       17.0   17   0.0       MF          Urban Center  \n",
       "2        1.0    1   0.0       SF      Outside Villages  \n",
       "3        1.0    1   0.0       SF      Outside Villages  \n",
       "4        1.0    1   0.0       MF  Urban Center Village  "
      ]
     },
     "execution_count": 18,
     "metadata": {},
     "output_type": "execute_result"
    }
   ],
   "source": [
    "df_core = df[['DWELTYPE','YEAR_ISSUED','YEAR_FINAL','APTYPE','NET_UNITS','NEW','DEMO','TYPE_OCC','TYPE_NAME']].copy()\n",
    "df_core.head()"
   ]
  },
  {
   "cell_type": "code",
   "execution_count": 50,
   "metadata": {},
   "outputs": [
    {
     "data": {
      "text/html": [
       "<div>\n",
       "<style scoped>\n",
       "    .dataframe tbody tr th:only-of-type {\n",
       "        vertical-align: middle;\n",
       "    }\n",
       "\n",
       "    .dataframe tbody tr th {\n",
       "        vertical-align: top;\n",
       "    }\n",
       "\n",
       "    .dataframe thead th {\n",
       "        text-align: right;\n",
       "    }\n",
       "</style>\n",
       "<table border=\"1\" class=\"dataframe\">\n",
       "  <thead>\n",
       "    <tr style=\"text-align: right;\">\n",
       "      <th></th>\n",
       "      <th>DWELTYPE</th>\n",
       "      <th>YEAR_ISSUED</th>\n",
       "      <th>YEAR_FINAL</th>\n",
       "      <th>APTYPE</th>\n",
       "      <th>NET_UNITS</th>\n",
       "      <th>NEW</th>\n",
       "      <th>DEMO</th>\n",
       "      <th>TYPE_OCC</th>\n",
       "      <th>TYPE_NAME</th>\n",
       "    </tr>\n",
       "  </thead>\n",
       "  <tbody>\n",
       "    <tr>\n",
       "      <th>0</th>\n",
       "      <td>Accessory Dwelling, Attached</td>\n",
       "      <td>2010</td>\n",
       "      <td>2017.0</td>\n",
       "      <td>Construction Permit</td>\n",
       "      <td>1.0</td>\n",
       "      <td>1</td>\n",
       "      <td>0.0</td>\n",
       "      <td>ADU</td>\n",
       "      <td>Outside Villages</td>\n",
       "    </tr>\n",
       "    <tr>\n",
       "      <th>1</th>\n",
       "      <td>Apartment</td>\n",
       "      <td>2018</td>\n",
       "      <td>2021.0</td>\n",
       "      <td>Construction Permit</td>\n",
       "      <td>17.0</td>\n",
       "      <td>17</td>\n",
       "      <td>0.0</td>\n",
       "      <td>MF</td>\n",
       "      <td>Urban Center</td>\n",
       "    </tr>\n",
       "    <tr>\n",
       "      <th>2</th>\n",
       "      <td>Detached Single-Family</td>\n",
       "      <td>2020</td>\n",
       "      <td>2021.0</td>\n",
       "      <td>Construction Permit</td>\n",
       "      <td>1.0</td>\n",
       "      <td>1</td>\n",
       "      <td>0.0</td>\n",
       "      <td>SF</td>\n",
       "      <td>Outside Villages</td>\n",
       "    </tr>\n",
       "    <tr>\n",
       "      <th>3</th>\n",
       "      <td>Detached Single-Family</td>\n",
       "      <td>2019</td>\n",
       "      <td>2021.0</td>\n",
       "      <td>Construction Permit</td>\n",
       "      <td>1.0</td>\n",
       "      <td>1</td>\n",
       "      <td>0.0</td>\n",
       "      <td>SF</td>\n",
       "      <td>Outside Villages</td>\n",
       "    </tr>\n",
       "    <tr>\n",
       "      <th>4</th>\n",
       "      <td>Apartment</td>\n",
       "      <td>2020</td>\n",
       "      <td>2021.0</td>\n",
       "      <td>Construction Permit</td>\n",
       "      <td>1.0</td>\n",
       "      <td>1</td>\n",
       "      <td>0.0</td>\n",
       "      <td>MF</td>\n",
       "      <td>Urban Center Village</td>\n",
       "    </tr>\n",
       "  </tbody>\n",
       "</table>\n",
       "</div>"
      ],
      "text/plain": [
       "                       DWELTYPE  YEAR_ISSUED  YEAR_FINAL               APTYPE  \\\n",
       "0  Accessory Dwelling, Attached         2010      2017.0  Construction Permit   \n",
       "1                     Apartment         2018      2021.0  Construction Permit   \n",
       "2        Detached Single-Family         2020      2021.0  Construction Permit   \n",
       "3        Detached Single-Family         2019      2021.0  Construction Permit   \n",
       "4                     Apartment         2020      2021.0  Construction Permit   \n",
       "\n",
       "   NET_UNITS  NEW  DEMO TYPE_OCC             TYPE_NAME  \n",
       "0        1.0    1   0.0      ADU      Outside Villages  \n",
       "1       17.0   17   0.0       MF          Urban Center  \n",
       "2        1.0    1   0.0       SF      Outside Villages  \n",
       "3        1.0    1   0.0       SF      Outside Villages  \n",
       "4        1.0    1   0.0       MF  Urban Center Village  "
      ]
     },
     "execution_count": 50,
     "metadata": {},
     "output_type": "execute_result"
    }
   ],
   "source": [
    "df_const = df_core.query(\"DEMO==0\")#df_core.query(\"APTYPE=='Construction Permit'\")\n",
    "df_const.head()"
   ]
  },
  {
   "cell_type": "code",
   "execution_count": 20,
   "metadata": {},
   "outputs": [
    {
     "data": {
      "text/plain": [
       "Construction Permit      20631\n",
       "PTS                      12395\n",
       "Demolition Permit         5726\n",
       "PTS PERMIT                 288\n",
       "Phased Project Permit       93\n",
       "Name: APTYPE, dtype: int64"
      ]
     },
     "execution_count": 20,
     "metadata": {},
     "output_type": "execute_result"
    }
   ],
   "source": [
    "# Not sure what to do about some of these, whether to include or not\n",
    "df_core['APTYPE'].value_counts()"
   ]
  },
  {
   "cell_type": "code",
   "execution_count": 59,
   "metadata": {},
   "outputs": [
    {
     "data": {
      "text/plain": [
       "1     20005\n",
       "2      4246\n",
       "3      1680\n",
       "4      1048\n",
       "5       395\n",
       "6       339\n",
       "7       168\n",
       "8       165\n",
       "9        58\n",
       "10       47\n",
       "11       16\n",
       "12       67\n",
       "13       16\n",
       "14       23\n",
       "15       25\n",
       "16       26\n",
       "17       10\n",
       "18       31\n",
       "19       11\n",
       "20       38\n",
       "21       17\n",
       "22       18\n",
       "23       15\n",
       "24       25\n",
       "25       14\n",
       "Name: NEW, dtype: int64"
      ]
     },
     "execution_count": 59,
     "metadata": {},
     "output_type": "execute_result"
    }
   ],
   "source": [
    "df_const['NEW'].value_counts().sort_index().head(25)"
   ]
  },
  {
   "cell_type": "code",
   "execution_count": 141,
   "metadata": {},
   "outputs": [
    {
     "data": {
      "image/png": "[encoded data removed]",
      "text/plain": [
       "<Figure size 640x480 with 1 Axes>"
      ]
     },
     "metadata": {},
     "output_type": "display_data"
    },
    {
     "data": {
      "text/plain": [
       "<ggplot: (8763009672777)>"
      ]
     },
     "execution_count": 141,
     "metadata": {},
     "output_type": "execute_result"
    }
   ],
   "source": [
    "sea_unit_count_freqs = pd.DataFrame(df_const['NEW'].value_counts().sort_index()).reset_index()\n",
    "sea_unit_count_freqs.columns = ['units','buildings']\n",
    "(ggplot(sea_unit_count_freqs.query('units<26&units>4'),aes(x='units',y='buildings')) + \n",
    "geom_bar(stat='identity') +\n",
    "scale_x_continuous(breaks=list(range(0,30,2))) +\n",
    "labs(x='Units per Apartment Building',y='Constructed Buildings',\n",
    "    title = 'Distribution of units per building: Seattle 1990-2022'))"
   ]
  },
  {
   "cell_type": "code",
   "execution_count": 54,
   "metadata": {},
   "outputs": [
    {
     "data": {
      "text/plain": [
       "<AxesSubplot:>"
      ]
     },
     "execution_count": 54,
     "metadata": {},
     "output_type": "execute_result"
    },
    {
     "data": {
      "image/png": "[encoded data removed]",
      "text/plain": [
       "<Figure size 432x288 with 1 Axes>"
      ]
     },
     "metadata": {
      "needs_background": "light"
     },
     "output_type": "display_data"
    }
   ],
   "source": [
    "df_const.query('NEW<25&NEW>1')['NEW'].hist(bins=20)"
   ]
  },
  {
   "cell_type": "markdown",
   "metadata": {},
   "source": [
    "# All WA Addresses"
   ]
  },
  {
   "cell_type": "markdown",
   "metadata": {},
   "source": [
    "seems like the list of addresses is pretty comprehensive but the unit number is often missing, even for multi-family buildings\n",
    "\n",
    "Note that the version I have is from Kaggle so it's 5 years old, would need to download from OpenAddresses directly to get more up-to-date data"
   ]
  },
  {
   "cell_type": "code",
   "execution_count": 60,
   "metadata": {},
   "outputs": [
    {
     "name": "stderr",
     "output_type": "stream",
     "text": [
      "<ipython-input-60-2994c239fef1>:1: DtypeWarning: Columns (2,4,5,6,7,8,9) have mixed types. Specify dtype option on import or set low_memory=False.\n",
      "  df_wa_addresses = pd.read_csv(\"us_west_addresses/wa.csv\")\n"
     ]
    },
    {
     "data": {
      "text/html": [
       "<div>\n",
       "<style scoped>\n",
       "    .dataframe tbody tr th:only-of-type {\n",
       "        vertical-align: middle;\n",
       "    }\n",
       "\n",
       "    .dataframe tbody tr th {\n",
       "        vertical-align: top;\n",
       "    }\n",
       "\n",
       "    .dataframe thead th {\n",
       "        text-align: right;\n",
       "    }\n",
       "</style>\n",
       "<table border=\"1\" class=\"dataframe\">\n",
       "  <thead>\n",
       "    <tr style=\"text-align: right;\">\n",
       "      <th></th>\n",
       "      <th>LON</th>\n",
       "      <th>LAT</th>\n",
       "      <th>NUMBER</th>\n",
       "      <th>STREET</th>\n",
       "      <th>UNIT</th>\n",
       "      <th>CITY</th>\n",
       "      <th>DISTRICT</th>\n",
       "      <th>REGION</th>\n",
       "      <th>POSTCODE</th>\n",
       "      <th>ID</th>\n",
       "      <th>HASH</th>\n",
       "    </tr>\n",
       "  </thead>\n",
       "  <tbody>\n",
       "    <tr>\n",
       "      <th>0</th>\n",
       "      <td>-122.343150</td>\n",
       "      <td>48.921103</td>\n",
       "      <td>104</td>\n",
       "      <td>W 1ST ST</td>\n",
       "      <td>NaN</td>\n",
       "      <td>Everson</td>\n",
       "      <td>NaN</td>\n",
       "      <td>NaN</td>\n",
       "      <td>98247.0</td>\n",
       "      <td>68067-104</td>\n",
       "      <td>099481794ac3dde8</td>\n",
       "    </tr>\n",
       "    <tr>\n",
       "      <th>1</th>\n",
       "      <td>-122.343216</td>\n",
       "      <td>48.922204</td>\n",
       "      <td>109</td>\n",
       "      <td>W 3RD ST</td>\n",
       "      <td>NaN</td>\n",
       "      <td>Everson</td>\n",
       "      <td>NaN</td>\n",
       "      <td>NaN</td>\n",
       "      <td>98247.0</td>\n",
       "      <td>68068-109</td>\n",
       "      <td>54612c811cb65927</td>\n",
       "    </tr>\n",
       "    <tr>\n",
       "      <th>2</th>\n",
       "      <td>-122.356505</td>\n",
       "      <td>48.907260</td>\n",
       "      <td>402</td>\n",
       "      <td>ARROWHEAD LN</td>\n",
       "      <td>NaN</td>\n",
       "      <td>Everson</td>\n",
       "      <td>NaN</td>\n",
       "      <td>NaN</td>\n",
       "      <td>98247.0</td>\n",
       "      <td>68003-402</td>\n",
       "      <td>bbec16441496508e</td>\n",
       "    </tr>\n",
       "    <tr>\n",
       "      <th>3</th>\n",
       "      <td>-122.338338</td>\n",
       "      <td>48.919275</td>\n",
       "      <td>108</td>\n",
       "      <td>BLAIR DR</td>\n",
       "      <td>NaN</td>\n",
       "      <td>Everson</td>\n",
       "      <td>NaN</td>\n",
       "      <td>NaN</td>\n",
       "      <td>98247.0</td>\n",
       "      <td>68008-108</td>\n",
       "      <td>e5ed7dabafdf1186</td>\n",
       "    </tr>\n",
       "    <tr>\n",
       "      <th>4</th>\n",
       "      <td>-122.338211</td>\n",
       "      <td>48.918561</td>\n",
       "      <td>112</td>\n",
       "      <td>BLAIR DR</td>\n",
       "      <td>NaN</td>\n",
       "      <td>Everson</td>\n",
       "      <td>NaN</td>\n",
       "      <td>NaN</td>\n",
       "      <td>98247.0</td>\n",
       "      <td>68008-112</td>\n",
       "      <td>47da212d3253bb8c</td>\n",
       "    </tr>\n",
       "  </tbody>\n",
       "</table>\n",
       "</div>"
      ],
      "text/plain": [
       "          LON        LAT NUMBER        STREET UNIT     CITY DISTRICT REGION  \\\n",
       "0 -122.343150  48.921103    104      W 1ST ST  NaN  Everson      NaN    NaN   \n",
       "1 -122.343216  48.922204    109      W 3RD ST  NaN  Everson      NaN    NaN   \n",
       "2 -122.356505  48.907260    402  ARROWHEAD LN  NaN  Everson      NaN    NaN   \n",
       "3 -122.338338  48.919275    108      BLAIR DR  NaN  Everson      NaN    NaN   \n",
       "4 -122.338211  48.918561    112      BLAIR DR  NaN  Everson      NaN    NaN   \n",
       "\n",
       "  POSTCODE         ID              HASH  \n",
       "0  98247.0  68067-104  099481794ac3dde8  \n",
       "1  98247.0  68068-109  54612c811cb65927  \n",
       "2  98247.0  68003-402  bbec16441496508e  \n",
       "3  98247.0  68008-108  e5ed7dabafdf1186  \n",
       "4  98247.0  68008-112  47da212d3253bb8c  "
      ]
     },
     "execution_count": 60,
     "metadata": {},
     "output_type": "execute_result"
    }
   ],
   "source": [
    "df_wa_addresses = pd.read_csv(\"us_west_addresses/wa.csv\")\n",
    "print(df_wa_addresses.shape)\n",
    "df_wa_addresses.head()"
   ]
  },
  {
   "cell_type": "code",
   "execution_count": 62,
   "metadata": {},
   "outputs": [
    {
     "name": "stdout",
     "output_type": "stream",
     "text": [
      "(68450, 11)\n"
     ]
    }
   ],
   "source": [
    "df_wa_apts = df_wa_addresses[df_wa_addresses['UNIT'].notna()].copy()\n",
    "print(df_wa_apts.shape)"
   ]
  },
  {
   "cell_type": "code",
   "execution_count": 63,
   "metadata": {},
   "outputs": [
    {
     "data": {
      "text/html": [
       "<div>\n",
       "<style scoped>\n",
       "    .dataframe tbody tr th:only-of-type {\n",
       "        vertical-align: middle;\n",
       "    }\n",
       "\n",
       "    .dataframe tbody tr th {\n",
       "        vertical-align: top;\n",
       "    }\n",
       "\n",
       "    .dataframe thead th {\n",
       "        text-align: right;\n",
       "    }\n",
       "</style>\n",
       "<table border=\"1\" class=\"dataframe\">\n",
       "  <thead>\n",
       "    <tr style=\"text-align: right;\">\n",
       "      <th></th>\n",
       "      <th>LON</th>\n",
       "      <th>LAT</th>\n",
       "      <th>NUMBER</th>\n",
       "      <th>STREET</th>\n",
       "      <th>UNIT</th>\n",
       "      <th>CITY</th>\n",
       "      <th>DISTRICT</th>\n",
       "      <th>REGION</th>\n",
       "      <th>POSTCODE</th>\n",
       "      <th>ID</th>\n",
       "      <th>HASH</th>\n",
       "    </tr>\n",
       "  </thead>\n",
       "  <tbody>\n",
       "    <tr>\n",
       "      <th>5725</th>\n",
       "      <td>-122.628907</td>\n",
       "      <td>48.744813</td>\n",
       "      <td>2835</td>\n",
       "      <td>LUMMI SHORE RD</td>\n",
       "      <td>2</td>\n",
       "      <td>Bellingham</td>\n",
       "      <td>NaN</td>\n",
       "      <td>NaN</td>\n",
       "      <td>98226.0</td>\n",
       "      <td>70055-2835-2</td>\n",
       "      <td>e0248c42fdfd0982</td>\n",
       "    </tr>\n",
       "    <tr>\n",
       "      <th>5928</th>\n",
       "      <td>-122.613314</td>\n",
       "      <td>48.789606</td>\n",
       "      <td>4087</td>\n",
       "      <td>LUMMI SHORE DR</td>\n",
       "      <td>A</td>\n",
       "      <td>Bellingham</td>\n",
       "      <td>NaN</td>\n",
       "      <td>NaN</td>\n",
       "      <td>98226.0</td>\n",
       "      <td>70054-4087-A</td>\n",
       "      <td>fa2b905511aa828a</td>\n",
       "    </tr>\n",
       "    <tr>\n",
       "      <th>6028</th>\n",
       "      <td>-122.645561</td>\n",
       "      <td>48.724376</td>\n",
       "      <td>2289</td>\n",
       "      <td>LUMMI SHORE RD</td>\n",
       "      <td>A</td>\n",
       "      <td>Bellingham</td>\n",
       "      <td>NaN</td>\n",
       "      <td>NaN</td>\n",
       "      <td>98226.0</td>\n",
       "      <td>70055-2289-A</td>\n",
       "      <td>2409114f263cceb6</td>\n",
       "    </tr>\n",
       "    <tr>\n",
       "      <th>6563</th>\n",
       "      <td>-122.617272</td>\n",
       "      <td>48.794149</td>\n",
       "      <td>2608</td>\n",
       "      <td>KWINA RD</td>\n",
       "      <td>B</td>\n",
       "      <td>Bellingham</td>\n",
       "      <td>NaN</td>\n",
       "      <td>NaN</td>\n",
       "      <td>98226.0</td>\n",
       "      <td>70042-2608-B</td>\n",
       "      <td>512a418147b7b749</td>\n",
       "    </tr>\n",
       "    <tr>\n",
       "      <th>6570</th>\n",
       "      <td>-122.635830</td>\n",
       "      <td>48.794039</td>\n",
       "      <td>2828</td>\n",
       "      <td>KWINA RD</td>\n",
       "      <td>A</td>\n",
       "      <td>Bellingham</td>\n",
       "      <td>NaN</td>\n",
       "      <td>NaN</td>\n",
       "      <td>98226.0</td>\n",
       "      <td>70042-2828-A</td>\n",
       "      <td>12a965521ecaf396</td>\n",
       "    </tr>\n",
       "  </tbody>\n",
       "</table>\n",
       "</div>"
      ],
      "text/plain": [
       "             LON        LAT NUMBER          STREET UNIT        CITY DISTRICT  \\\n",
       "5725 -122.628907  48.744813   2835  LUMMI SHORE RD    2  Bellingham      NaN   \n",
       "5928 -122.613314  48.789606   4087  LUMMI SHORE DR    A  Bellingham      NaN   \n",
       "6028 -122.645561  48.724376   2289  LUMMI SHORE RD    A  Bellingham      NaN   \n",
       "6563 -122.617272  48.794149   2608        KWINA RD    B  Bellingham      NaN   \n",
       "6570 -122.635830  48.794039   2828        KWINA RD    A  Bellingham      NaN   \n",
       "\n",
       "     REGION POSTCODE            ID              HASH  \n",
       "5725    NaN  98226.0  70055-2835-2  e0248c42fdfd0982  \n",
       "5928    NaN  98226.0  70054-4087-A  fa2b905511aa828a  \n",
       "6028    NaN  98226.0  70055-2289-A  2409114f263cceb6  \n",
       "6563    NaN  98226.0  70042-2608-B  512a418147b7b749  \n",
       "6570    NaN  98226.0  70042-2828-A  12a965521ecaf396  "
      ]
     },
     "execution_count": 63,
     "metadata": {},
     "output_type": "execute_result"
    }
   ],
   "source": [
    "df_wa_apts.head()"
   ]
  },
  {
   "cell_type": "code",
   "execution_count": 82,
   "metadata": {},
   "outputs": [
    {
     "name": "stdout",
     "output_type": "stream",
     "text": [
      "(2072, 5)\n"
     ]
    },
    {
     "data": {
      "text/html": [
       "<div>\n",
       "<style scoped>\n",
       "    .dataframe tbody tr th:only-of-type {\n",
       "        vertical-align: middle;\n",
       "    }\n",
       "\n",
       "    .dataframe tbody tr th {\n",
       "        vertical-align: top;\n",
       "    }\n",
       "\n",
       "    .dataframe thead th {\n",
       "        text-align: right;\n",
       "    }\n",
       "</style>\n",
       "<table border=\"1\" class=\"dataframe\">\n",
       "  <thead>\n",
       "    <tr style=\"text-align: right;\">\n",
       "      <th></th>\n",
       "      <th>NUMBER</th>\n",
       "      <th>STREET</th>\n",
       "      <th>CITY</th>\n",
       "      <th>POSTCODE</th>\n",
       "      <th>n</th>\n",
       "    </tr>\n",
       "  </thead>\n",
       "  <tbody>\n",
       "    <tr>\n",
       "      <th>0</th>\n",
       "      <td>198.0</td>\n",
       "      <td>RITTER ST S</td>\n",
       "      <td>TENINO</td>\n",
       "      <td>98589</td>\n",
       "      <td>1</td>\n",
       "    </tr>\n",
       "    <tr>\n",
       "      <th>1</th>\n",
       "      <td>200</td>\n",
       "      <td>LILLY RD NE</td>\n",
       "      <td>OLYMPIA</td>\n",
       "      <td>98506</td>\n",
       "      <td>3</td>\n",
       "    </tr>\n",
       "    <tr>\n",
       "      <th>2</th>\n",
       "      <td>205.0</td>\n",
       "      <td>LILLY RD NE</td>\n",
       "      <td>OLYMPIA</td>\n",
       "      <td>98506</td>\n",
       "      <td>1</td>\n",
       "    </tr>\n",
       "    <tr>\n",
       "      <th>3</th>\n",
       "      <td>208</td>\n",
       "      <td>LEE ST SW</td>\n",
       "      <td>TUMWATER</td>\n",
       "      <td>98501</td>\n",
       "      <td>2</td>\n",
       "    </tr>\n",
       "    <tr>\n",
       "      <th>4</th>\n",
       "      <td>220</td>\n",
       "      <td>ISRAEL AVE SW</td>\n",
       "      <td>TUMWATER</td>\n",
       "      <td>98501</td>\n",
       "      <td>1</td>\n",
       "    </tr>\n",
       "  </tbody>\n",
       "</table>\n",
       "</div>"
      ],
      "text/plain": [
       "  NUMBER         STREET      CITY POSTCODE  n\n",
       "0  198.0    RITTER ST S    TENINO    98589  1\n",
       "1    200    LILLY RD NE   OLYMPIA    98506  3\n",
       "2  205.0    LILLY RD NE   OLYMPIA    98506  1\n",
       "3    208      LEE ST SW  TUMWATER    98501  2\n",
       "4    220  ISRAEL AVE SW  TUMWATER    98501  1"
      ]
     },
     "execution_count": 82,
     "metadata": {},
     "output_type": "execute_result"
    }
   ],
   "source": [
    "df_wa_unit_counts = df_wa_apts.drop_duplicates(subset=['NUMBER','STREET','CITY','POSTCODE','UNIT']).groupby(['NUMBER','STREET','CITY','POSTCODE']).size().reset_index().rename(columns={0:\"n\"})\n",
    "print(df_wa_unit_counts.shape)\n",
    "df_wa_unit_counts.head()"
   ]
  },
  {
   "cell_type": "code",
   "execution_count": 73,
   "metadata": {},
   "outputs": [
    {
     "data": {
      "text/plain": [
       "1     972\n",
       "2     413\n",
       "3     150\n",
       "4     140\n",
       "5      45\n",
       "6      51\n",
       "7      44\n",
       "8      42\n",
       "9      22\n",
       "10     18\n",
       "11     10\n",
       "12     29\n",
       "13      5\n",
       "14      9\n",
       "15     12\n",
       "16      8\n",
       "17      4\n",
       "18     11\n",
       "19      7\n",
       "20      3\n",
       "21      2\n",
       "22      2\n",
       "23      1\n",
       "24      9\n",
       "25      3\n",
       "Name: n, dtype: int64"
      ]
     },
     "execution_count": 73,
     "metadata": {},
     "output_type": "execute_result"
    }
   ],
   "source": [
    "df_wa_unit_counts['n'].value_counts().sort_index().head(25)"
   ]
  },
  {
   "cell_type": "markdown",
   "metadata": {},
   "source": [
    "# CA Addresses"
   ]
  },
  {
   "cell_type": "code",
   "execution_count": 74,
   "metadata": {
    "scrolled": true
   },
   "outputs": [
    {
     "name": "stderr",
     "output_type": "stream",
     "text": [
      "<ipython-input-74-49866aad335a>:1: DtypeWarning: Columns (2,3,4,5,8) have mixed types. Specify dtype option on import or set low_memory=False.\n",
      "  df_ca_addresses = pd.read_csv(\"us_west_addresses/ca.csv\",usecols=['NUMBER','STREET','CITY','POSTCODE','UNIT'])\n"
     ]
    },
    {
     "name": "stdout",
     "output_type": "stream",
     "text": [
      "(13784513, 5)\n"
     ]
    },
    {
     "data": {
      "text/html": [
       "<div>\n",
       "<style scoped>\n",
       "    .dataframe tbody tr th:only-of-type {\n",
       "        vertical-align: middle;\n",
       "    }\n",
       "\n",
       "    .dataframe tbody tr th {\n",
       "        vertical-align: top;\n",
       "    }\n",
       "\n",
       "    .dataframe thead th {\n",
       "        text-align: right;\n",
       "    }\n",
       "</style>\n",
       "<table border=\"1\" class=\"dataframe\">\n",
       "  <thead>\n",
       "    <tr style=\"text-align: right;\">\n",
       "      <th></th>\n",
       "      <th>NUMBER</th>\n",
       "      <th>STREET</th>\n",
       "      <th>UNIT</th>\n",
       "      <th>CITY</th>\n",
       "      <th>POSTCODE</th>\n",
       "    </tr>\n",
       "  </thead>\n",
       "  <tbody>\n",
       "    <tr>\n",
       "      <th>0</th>\n",
       "      <td>988.0</td>\n",
       "      <td>FRANKLIN ST</td>\n",
       "      <td>508</td>\n",
       "      <td>OAKLAND</td>\n",
       "      <td>94607</td>\n",
       "    </tr>\n",
       "    <tr>\n",
       "      <th>1</th>\n",
       "      <td>988.0</td>\n",
       "      <td>FRANKLIN ST</td>\n",
       "      <td>1301</td>\n",
       "      <td>OAKLAND</td>\n",
       "      <td>94607</td>\n",
       "    </tr>\n",
       "    <tr>\n",
       "      <th>2</th>\n",
       "      <td>988.0</td>\n",
       "      <td>FRANKLIN ST</td>\n",
       "      <td>1302</td>\n",
       "      <td>OAKLAND</td>\n",
       "      <td>94607</td>\n",
       "    </tr>\n",
       "    <tr>\n",
       "      <th>3</th>\n",
       "      <td>988.0</td>\n",
       "      <td>FRANKLIN ST</td>\n",
       "      <td>507</td>\n",
       "      <td>OAKLAND</td>\n",
       "      <td>94607</td>\n",
       "    </tr>\n",
       "    <tr>\n",
       "      <th>4</th>\n",
       "      <td>928.0</td>\n",
       "      <td>FRANKLIN ST</td>\n",
       "      <td>522</td>\n",
       "      <td>OAKLAND</td>\n",
       "      <td>94607</td>\n",
       "    </tr>\n",
       "  </tbody>\n",
       "</table>\n",
       "</div>"
      ],
      "text/plain": [
       "  NUMBER       STREET  UNIT     CITY POSTCODE\n",
       "0  988.0  FRANKLIN ST   508  OAKLAND    94607\n",
       "1  988.0  FRANKLIN ST  1301  OAKLAND    94607\n",
       "2  988.0  FRANKLIN ST  1302  OAKLAND    94607\n",
       "3  988.0  FRANKLIN ST   507  OAKLAND    94607\n",
       "4  928.0  FRANKLIN ST   522  OAKLAND    94607"
      ]
     },
     "execution_count": 74,
     "metadata": {},
     "output_type": "execute_result"
    }
   ],
   "source": [
    "df_ca_addresses = pd.read_csv(\"us_west_addresses/ca.csv\",usecols=['NUMBER','STREET','CITY','POSTCODE','UNIT'])\n",
    "print(df_ca_addresses.shape)\n",
    "df_ca_addresses.head()"
   ]
  },
  {
   "cell_type": "code",
   "execution_count": 124,
   "metadata": {},
   "outputs": [
    {
     "name": "stdout",
     "output_type": "stream",
     "text": [
      "(1234744, 5)\n"
     ]
    }
   ],
   "source": [
    "df_ca_apts = df_ca_addresses[df_ca_addresses['UNIT'].notna()].copy()\n",
    "df_ca_apts.loc[df_ca_apts['POSTCODE'].isna(),'POSTCODE'] = '00000'\n",
    "print(df_ca_apts.shape)"
   ]
  },
  {
   "cell_type": "code",
   "execution_count": 125,
   "metadata": {},
   "outputs": [
    {
     "name": "stdout",
     "output_type": "stream",
     "text": [
      "(164072, 5)\n"
     ]
    },
    {
     "data": {
      "text/html": [
       "<div>\n",
       "<style scoped>\n",
       "    .dataframe tbody tr th:only-of-type {\n",
       "        vertical-align: middle;\n",
       "    }\n",
       "\n",
       "    .dataframe tbody tr th {\n",
       "        vertical-align: top;\n",
       "    }\n",
       "\n",
       "    .dataframe thead th {\n",
       "        text-align: right;\n",
       "    }\n",
       "</style>\n",
       "<table border=\"1\" class=\"dataframe\">\n",
       "  <thead>\n",
       "    <tr style=\"text-align: right;\">\n",
       "      <th></th>\n",
       "      <th>NUMBER</th>\n",
       "      <th>STREET</th>\n",
       "      <th>CITY</th>\n",
       "      <th>POSTCODE</th>\n",
       "      <th>n</th>\n",
       "    </tr>\n",
       "  </thead>\n",
       "  <tbody>\n",
       "    <tr>\n",
       "      <th>0</th>\n",
       "      <td>0</td>\n",
       "      <td>MINNEHAHA</td>\n",
       "      <td>PALM SPRINGS</td>\n",
       "      <td>92264.0</td>\n",
       "      <td>1</td>\n",
       "    </tr>\n",
       "    <tr>\n",
       "      <th>1</th>\n",
       "      <td>0</td>\n",
       "      <td>WILTSE RD</td>\n",
       "      <td>CITY OF PLACERVILLE</td>\n",
       "      <td>00000</td>\n",
       "      <td>1</td>\n",
       "    </tr>\n",
       "    <tr>\n",
       "      <th>2</th>\n",
       "      <td>1.0</td>\n",
       "      <td>3RD ST</td>\n",
       "      <td>SAN RAFAEL</td>\n",
       "      <td>94901</td>\n",
       "      <td>1</td>\n",
       "    </tr>\n",
       "    <tr>\n",
       "      <th>3</th>\n",
       "      <td>1.0</td>\n",
       "      <td>ACTON CI</td>\n",
       "      <td>BERKELEY</td>\n",
       "      <td>94702</td>\n",
       "      <td>1</td>\n",
       "    </tr>\n",
       "    <tr>\n",
       "      <th>4</th>\n",
       "      <td>1.0</td>\n",
       "      <td>ALVINA AVE</td>\n",
       "      <td>SAN RAFAEL</td>\n",
       "      <td>94901</td>\n",
       "      <td>1</td>\n",
       "    </tr>\n",
       "  </tbody>\n",
       "</table>\n",
       "</div>"
      ],
      "text/plain": [
       "  NUMBER      STREET                 CITY POSTCODE  n\n",
       "0      0   MINNEHAHA         PALM SPRINGS  92264.0  1\n",
       "1      0   WILTSE RD  CITY OF PLACERVILLE    00000  1\n",
       "2    1.0      3RD ST           SAN RAFAEL    94901  1\n",
       "3    1.0    ACTON CI             BERKELEY    94702  1\n",
       "4    1.0  ALVINA AVE           SAN RAFAEL    94901  1"
      ]
     },
     "execution_count": 125,
     "metadata": {},
     "output_type": "execute_result"
    }
   ],
   "source": [
    "df_ca_unit_counts = df_ca_apts.drop_duplicates(subset=['NUMBER','STREET','CITY','POSTCODE','UNIT']).groupby(['NUMBER','STREET','CITY','POSTCODE']).size().reset_index().rename(columns={0:\"n\"})\n",
    "print(df_ca_unit_counts.shape)\n",
    "df_ca_unit_counts.head()"
   ]
  },
  {
   "cell_type": "code",
   "execution_count": 126,
   "metadata": {},
   "outputs": [
    {
     "data": {
      "text/html": [
       "<div>\n",
       "<style scoped>\n",
       "    .dataframe tbody tr th:only-of-type {\n",
       "        vertical-align: middle;\n",
       "    }\n",
       "\n",
       "    .dataframe tbody tr th {\n",
       "        vertical-align: top;\n",
       "    }\n",
       "\n",
       "    .dataframe thead th {\n",
       "        text-align: right;\n",
       "    }\n",
       "</style>\n",
       "<table border=\"1\" class=\"dataframe\">\n",
       "  <thead>\n",
       "    <tr style=\"text-align: right;\">\n",
       "      <th></th>\n",
       "      <th>units</th>\n",
       "      <th>buildings</th>\n",
       "    </tr>\n",
       "  </thead>\n",
       "  <tbody>\n",
       "    <tr>\n",
       "      <th>0</th>\n",
       "      <td>1</td>\n",
       "      <td>68373</td>\n",
       "    </tr>\n",
       "    <tr>\n",
       "      <th>1</th>\n",
       "      <td>2</td>\n",
       "      <td>20496</td>\n",
       "    </tr>\n",
       "    <tr>\n",
       "      <th>2</th>\n",
       "      <td>3</td>\n",
       "      <td>11879</td>\n",
       "    </tr>\n",
       "    <tr>\n",
       "      <th>3</th>\n",
       "      <td>4</td>\n",
       "      <td>17899</td>\n",
       "    </tr>\n",
       "    <tr>\n",
       "      <th>4</th>\n",
       "      <td>5</td>\n",
       "      <td>6381</td>\n",
       "    </tr>\n",
       "    <tr>\n",
       "      <th>5</th>\n",
       "      <td>6</td>\n",
       "      <td>7048</td>\n",
       "    </tr>\n",
       "    <tr>\n",
       "      <th>6</th>\n",
       "      <td>7</td>\n",
       "      <td>3664</td>\n",
       "    </tr>\n",
       "    <tr>\n",
       "      <th>7</th>\n",
       "      <td>8</td>\n",
       "      <td>6731</td>\n",
       "    </tr>\n",
       "    <tr>\n",
       "      <th>8</th>\n",
       "      <td>9</td>\n",
       "      <td>2224</td>\n",
       "    </tr>\n",
       "    <tr>\n",
       "      <th>9</th>\n",
       "      <td>10</td>\n",
       "      <td>2448</td>\n",
       "    </tr>\n",
       "    <tr>\n",
       "      <th>10</th>\n",
       "      <td>11</td>\n",
       "      <td>1170</td>\n",
       "    </tr>\n",
       "    <tr>\n",
       "      <th>11</th>\n",
       "      <td>12</td>\n",
       "      <td>2245</td>\n",
       "    </tr>\n",
       "    <tr>\n",
       "      <th>12</th>\n",
       "      <td>13</td>\n",
       "      <td>728</td>\n",
       "    </tr>\n",
       "    <tr>\n",
       "      <th>13</th>\n",
       "      <td>14</td>\n",
       "      <td>957</td>\n",
       "    </tr>\n",
       "    <tr>\n",
       "      <th>14</th>\n",
       "      <td>15</td>\n",
       "      <td>734</td>\n",
       "    </tr>\n",
       "    <tr>\n",
       "      <th>15</th>\n",
       "      <td>16</td>\n",
       "      <td>1383</td>\n",
       "    </tr>\n",
       "    <tr>\n",
       "      <th>16</th>\n",
       "      <td>17</td>\n",
       "      <td>494</td>\n",
       "    </tr>\n",
       "    <tr>\n",
       "      <th>17</th>\n",
       "      <td>18</td>\n",
       "      <td>676</td>\n",
       "    </tr>\n",
       "    <tr>\n",
       "      <th>18</th>\n",
       "      <td>19</td>\n",
       "      <td>366</td>\n",
       "    </tr>\n",
       "    <tr>\n",
       "      <th>19</th>\n",
       "      <td>20</td>\n",
       "      <td>672</td>\n",
       "    </tr>\n",
       "    <tr>\n",
       "      <th>20</th>\n",
       "      <td>21</td>\n",
       "      <td>368</td>\n",
       "    </tr>\n",
       "    <tr>\n",
       "      <th>21</th>\n",
       "      <td>22</td>\n",
       "      <td>379</td>\n",
       "    </tr>\n",
       "    <tr>\n",
       "      <th>22</th>\n",
       "      <td>23</td>\n",
       "      <td>278</td>\n",
       "    </tr>\n",
       "    <tr>\n",
       "      <th>23</th>\n",
       "      <td>24</td>\n",
       "      <td>524</td>\n",
       "    </tr>\n",
       "    <tr>\n",
       "      <th>24</th>\n",
       "      <td>25</td>\n",
       "      <td>239</td>\n",
       "    </tr>\n",
       "  </tbody>\n",
       "</table>\n",
       "</div>"
      ],
      "text/plain": [
       "    units  buildings\n",
       "0       1      68373\n",
       "1       2      20496\n",
       "2       3      11879\n",
       "3       4      17899\n",
       "4       5       6381\n",
       "5       6       7048\n",
       "6       7       3664\n",
       "7       8       6731\n",
       "8       9       2224\n",
       "9      10       2448\n",
       "10     11       1170\n",
       "11     12       2245\n",
       "12     13        728\n",
       "13     14        957\n",
       "14     15        734\n",
       "15     16       1383\n",
       "16     17        494\n",
       "17     18        676\n",
       "18     19        366\n",
       "19     20        672\n",
       "20     21        368\n",
       "21     22        379\n",
       "22     23        278\n",
       "23     24        524\n",
       "24     25        239"
      ]
     },
     "execution_count": 126,
     "metadata": {},
     "output_type": "execute_result"
    }
   ],
   "source": [
    "ca_unit_count_freqs = pd.DataFrame(df_ca_unit_counts['n'].value_counts().sort_index()).reset_index()\n",
    "ca_unit_count_freqs.columns = ['units','buildings']\n",
    "ca_unit_count_freqs.head(25)"
   ]
  },
  {
   "cell_type": "code",
   "execution_count": 127,
   "metadata": {},
   "outputs": [
    {
     "data": {
      "image/png": "[encoded data removed]",
      "text/plain": [
       "<Figure size 640x480 with 1 Axes>"
      ]
     },
     "metadata": {},
     "output_type": "display_data"
    },
    {
     "data": {
      "text/plain": [
       "<ggplot: (8762927136127)>"
      ]
     },
     "execution_count": 127,
     "metadata": {},
     "output_type": "execute_result"
    }
   ],
   "source": [
    "(ggplot(ca_unit_count_freqs.query('units<26&units>1'),aes(x='units',y='buildings')) + \n",
    "geom_bar(stat='identity') +\n",
    "scale_x_continuous(breaks=list(range(0,30,2))))"
   ]
  },
  {
   "cell_type": "code",
   "execution_count": 98,
   "metadata": {},
   "outputs": [],
   "source": [
    "# Analyze by municipality to check for differences\n",
    "# Seems like some municipalities over/under-represented in how often they have unit data, or any housing data"
   ]
  },
  {
   "cell_type": "code",
   "execution_count": 128,
   "metadata": {},
   "outputs": [
    {
     "data": {
      "text/plain": [
       "Long Beach            88475\n",
       "San Diego             47019\n",
       "Glendale              45206\n",
       "BAKERSFIELD           44744\n",
       "ANAHEIM               43899\n",
       "Pasadena              30999\n",
       "BERKELEY              28340\n",
       "Salinas               25022\n",
       "SAN RAFAEL            23940\n",
       "Mountain View         21704\n",
       "CHICO                 21629\n",
       "FREMONT               21002\n",
       "City of Santa Rosa    19288\n",
       "SAN JOSE              17147\n",
       "Mammoth Lakes City    14559\n",
       "Name: CITY, dtype: int64"
      ]
     },
     "execution_count": 128,
     "metadata": {},
     "output_type": "execute_result"
    }
   ],
   "source": [
    "def plot_hist_by_muni(muni,df=df_ca_apts):\n",
    "    data = df.query('CITY==@muni')\n",
    "    df_unit_counts = data.groupby(['NUMBER','STREET','CITY','POSTCODE']).size().reset_index().rename(columns={0:\"n\"})\n",
    "    unit_count_freqs = pd.DataFrame(df_unit_counts['n'].value_counts().sort_index()).reset_index()\n",
    "    unit_count_freqs.columns = ['units','buildings']\n",
    "    hist = (ggplot(unit_count_freqs.query('units<30&units>1'),aes(x='units',y='buildings')) + \n",
    "        geom_bar(stat='identity') +\n",
    "        scale_x_continuous(breaks=list(range(0,30,2))))\n",
    "    return(hist)\n",
    "df_ca_apts['CITY'].value_counts().head(15)"
   ]
  },
  {
   "cell_type": "code",
   "execution_count": 129,
   "metadata": {},
   "outputs": [
    {
     "data": {
      "text/plain": [
       "Los Angeles    644270\n",
       "San Diego      347282\n",
       "SAN JOSE       246329\n",
       "BAKERSFIELD    211834\n",
       "Long Beach     210802\n",
       "ANAHEIM        171338\n",
       "OAKLAND        109006\n",
       "VISALIA        101026\n",
       "FREMONT         89175\n",
       "BERKELEY        87394\n",
       "Name: CITY, dtype: int64"
      ]
     },
     "execution_count": 129,
     "metadata": {},
     "output_type": "execute_result"
    }
   ],
   "source": [
    "df_ca_addresses['CITY'].value_counts().head(10)"
   ]
  },
  {
   "cell_type": "code",
   "execution_count": 130,
   "metadata": {},
   "outputs": [
    {
     "data": {
      "text/plain": [
       "Index(['Long Beach', 'San Diego', 'Glendale', 'BAKERSFIELD', 'ANAHEIM',\n",
       "       'Pasadena', 'BERKELEY', 'Salinas', 'SAN RAFAEL', 'Mountain View'],\n",
       "      dtype='object')"
      ]
     },
     "execution_count": 130,
     "metadata": {},
     "output_type": "execute_result"
    }
   ],
   "source": [
    "top_ca_apt_cities = df_ca_apts['CITY'].value_counts().head(10).index\n",
    "top_ca_apt_cities"
   ]
  },
  {
   "cell_type": "code",
   "execution_count": 133,
   "metadata": {
    "scrolled": false
   },
   "outputs": [
    {
     "name": "stdout",
     "output_type": "stream",
     "text": [
      "Long Beach\n"
     ]
    },
    {
     "data": {
      "image/png": "[encoded data removed]",
      "text/plain": [
       "<Figure size 640x480 with 1 Axes>"
      ]
     },
     "metadata": {},
     "output_type": "display_data"
    },
    {
     "name": "stdout",
     "output_type": "stream",
     "text": [
      "<ggplot: (8763009639364)>\n",
      "San Diego\n"
     ]
    },
    {
     "data": {
      "image/png": "[encoded data removed]",
      "text/plain": [
       "<Figure size 640x480 with 1 Axes>"
      ]
     },
     "metadata": {},
     "output_type": "display_data"
    },
    {
     "name": "stdout",
     "output_type": "stream",
     "text": [
      "<ggplot: (8763009639406)>\n",
      "Glendale\n"
     ]
    },
    {
     "data": {
      "image/png": "[encoded data removed]",
      "text/plain": [
       "<Figure size 640x480 with 1 Axes>"
      ]
     },
     "metadata": {},
     "output_type": "display_data"
    },
    {
     "name": "stdout",
     "output_type": "stream",
     "text": [
      "<ggplot: (8762930720877)>\n",
      "BAKERSFIELD\n"
     ]
    },
    {
     "data": {
      "image/png": "[encoded data removed]",
      "text/plain": [
       "<Figure size 640x480 with 1 Axes>"
      ]
     },
     "metadata": {},
     "output_type": "display_data"
    },
    {
     "name": "stdout",
     "output_type": "stream",
     "text": [
      "<ggplot: (8762926885000)>\n",
      "ANAHEIM\n"
     ]
    },
    {
     "data": {
      "image/png": "[encoded data removed]",
      "text/plain": [
       "<Figure size 640x480 with 1 Axes>"
      ]
     },
     "metadata": {},
     "output_type": "display_data"
    },
    {
     "name": "stdout",
     "output_type": "stream",
     "text": [
      "<ggplot: (8763009672506)>\n",
      "Pasadena\n"
     ]
    },
    {
     "data": {
      "image/png": "[encoded data removed]",
      "text/plain": [
       "<Figure size 640x480 with 1 Axes>"
      ]
     },
     "metadata": {},
     "output_type": "display_data"
    },
    {
     "name": "stdout",
     "output_type": "stream",
     "text": [
      "<ggplot: (8762930751883)>\n",
      "BERKELEY\n"
     ]
    },
    {
     "data": {
      "image/png": "[encoded data removed]",
      "text/plain": [
       "<Figure size 640x480 with 1 Axes>"
      ]
     },
     "metadata": {},
     "output_type": "display_data"
    },
    {
     "name": "stdout",
     "output_type": "stream",
     "text": [
      "<ggplot: (8762927138139)>\n",
      "Salinas\n"
     ]
    },
    {
     "data": {
      "image/png": "[encoded data removed]",
      "text/plain": [
       "<Figure size 640x480 with 1 Axes>"
      ]
     },
     "metadata": {},
     "output_type": "display_data"
    },
    {
     "name": "stdout",
     "output_type": "stream",
     "text": [
      "<ggplot: (8763009580057)>\n",
      "SAN RAFAEL\n"
     ]
    },
    {
     "data": {
      "image/png": "[encoded data removed]",
      "text/plain": [
       "<Figure size 640x480 with 1 Axes>"
      ]
     },
     "metadata": {},
     "output_type": "display_data"
    },
    {
     "name": "stdout",
     "output_type": "stream",
     "text": [
      "<ggplot: (8762925448620)>\n",
      "Mountain View\n"
     ]
    },
    {
     "data": {
      "image/png": "[encoded data removed]",
      "text/plain": [
       "<Figure size 640x480 with 1 Axes>"
      ]
     },
     "metadata": {},
     "output_type": "display_data"
    },
    {
     "name": "stdout",
     "output_type": "stream",
     "text": [
      "<ggplot: (8763012542492)>\n"
     ]
    }
   ],
   "source": [
    "for x in top_ca_apt_cities:\n",
    "    print(x)\n",
    "    print(plot_hist_by_muni(x))"
   ]
  },
  {
   "cell_type": "markdown",
   "metadata": {},
   "source": [
    "# Newer OpenAddresses Data"
   ]
  },
  {
   "cell_type": "code",
   "execution_count": 162,
   "metadata": {},
   "outputs": [
    {
     "name": "stdout",
     "output_type": "stream",
     "text": [
      "(668481, 3)\n"
     ]
    },
    {
     "data": {
      "text/html": [
       "<div>\n",
       "<style scoped>\n",
       "    .dataframe tbody tr th:only-of-type {\n",
       "        vertical-align: middle;\n",
       "    }\n",
       "\n",
       "    .dataframe tbody tr th {\n",
       "        vertical-align: top;\n",
       "    }\n",
       "\n",
       "    .dataframe thead th {\n",
       "        text-align: right;\n",
       "    }\n",
       "</style>\n",
       "<table border=\"1\" class=\"dataframe\">\n",
       "  <thead>\n",
       "    <tr style=\"text-align: right;\">\n",
       "      <th></th>\n",
       "      <th>type</th>\n",
       "      <th>properties</th>\n",
       "      <th>geometry</th>\n",
       "    </tr>\n",
       "  </thead>\n",
       "  <tbody>\n",
       "    <tr>\n",
       "      <th>0</th>\n",
       "      <td>Feature</td>\n",
       "      <td>{'hash': 'e8605a496593386e', 'number': '119', ...</td>\n",
       "      <td>{'type': 'Point', 'coordinates': [-122.3580529...</td>\n",
       "    </tr>\n",
       "    <tr>\n",
       "      <th>1</th>\n",
       "      <td>Feature</td>\n",
       "      <td>{'hash': '87d28792bee6b164', 'number': '115', ...</td>\n",
       "      <td>{'type': 'Point', 'coordinates': [-122.3578935...</td>\n",
       "    </tr>\n",
       "    <tr>\n",
       "      <th>2</th>\n",
       "      <td>Feature</td>\n",
       "      <td>{'hash': 'af2f17dad9761ff9', 'number': '111', ...</td>\n",
       "      <td>{'type': 'Point', 'coordinates': [-122.3577311...</td>\n",
       "    </tr>\n",
       "    <tr>\n",
       "      <th>3</th>\n",
       "      <td>Feature</td>\n",
       "      <td>{'hash': '5574f291b1685a8c', 'number': '4015',...</td>\n",
       "      <td>{'type': 'Point', 'coordinates': [-122.357475,...</td>\n",
       "    </tr>\n",
       "    <tr>\n",
       "      <th>4</th>\n",
       "      <td>Feature</td>\n",
       "      <td>{'hash': 'e30d2a2dea89cbae', 'number': '4017',...</td>\n",
       "      <td>{'type': 'Point', 'coordinates': [-122.3574725...</td>\n",
       "    </tr>\n",
       "  </tbody>\n",
       "</table>\n",
       "</div>"
      ],
      "text/plain": [
       "      type                                         properties  \\\n",
       "0  Feature  {'hash': 'e8605a496593386e', 'number': '119', ...   \n",
       "1  Feature  {'hash': '87d28792bee6b164', 'number': '115', ...   \n",
       "2  Feature  {'hash': 'af2f17dad9761ff9', 'number': '111', ...   \n",
       "3  Feature  {'hash': '5574f291b1685a8c', 'number': '4015',...   \n",
       "4  Feature  {'hash': 'e30d2a2dea89cbae', 'number': '4017',...   \n",
       "\n",
       "                                            geometry  \n",
       "0  {'type': 'Point', 'coordinates': [-122.3580529...  \n",
       "1  {'type': 'Point', 'coordinates': [-122.3578935...  \n",
       "2  {'type': 'Point', 'coordinates': [-122.3577311...  \n",
       "3  {'type': 'Point', 'coordinates': [-122.357475,...  \n",
       "4  {'type': 'Point', 'coordinates': [-122.3574725...  "
      ]
     },
     "execution_count": 162,
     "metadata": {},
     "output_type": "execute_result"
    }
   ],
   "source": [
    "# No unit info\n",
    "df_king_raw = pd.read_json(\"us_west_addresses_new/wa/king-addresses-county.geojson\",lines=True)\n",
    "print(df_king_raw.shape)\n",
    "df_king_raw.head()"
   ]
  },
  {
   "cell_type": "code",
   "execution_count": 173,
   "metadata": {},
   "outputs": [
    {
     "name": "stdout",
     "output_type": "stream",
     "text": [
      "(400002, 3)\n"
     ]
    },
    {
     "data": {
      "text/html": [
       "<div>\n",
       "<style scoped>\n",
       "    .dataframe tbody tr th:only-of-type {\n",
       "        vertical-align: middle;\n",
       "    }\n",
       "\n",
       "    .dataframe tbody tr th {\n",
       "        vertical-align: top;\n",
       "    }\n",
       "\n",
       "    .dataframe thead th {\n",
       "        text-align: right;\n",
       "    }\n",
       "</style>\n",
       "<table border=\"1\" class=\"dataframe\">\n",
       "  <thead>\n",
       "    <tr style=\"text-align: right;\">\n",
       "      <th></th>\n",
       "      <th>type</th>\n",
       "      <th>properties</th>\n",
       "      <th>geometry</th>\n",
       "    </tr>\n",
       "  </thead>\n",
       "  <tbody>\n",
       "    <tr>\n",
       "      <th>0</th>\n",
       "      <td>Feature</td>\n",
       "      <td>{'hash': 'd265fea1a509a250', 'number': '611', ...</td>\n",
       "      <td>{'type': 'Point', 'coordinates': [-122.608996,...</td>\n",
       "    </tr>\n",
       "    <tr>\n",
       "      <th>1</th>\n",
       "      <td>Feature</td>\n",
       "      <td>{'hash': '162121c92fb93040', 'number': '306', ...</td>\n",
       "      <td>{'type': 'Point', 'coordinates': [-122.6082999...</td>\n",
       "    </tr>\n",
       "    <tr>\n",
       "      <th>2</th>\n",
       "      <td>Feature</td>\n",
       "      <td>{'hash': 'e3a3493c55ef7ec7', 'number': '207', ...</td>\n",
       "      <td>{'type': 'Point', 'coordinates': [-122.6089675...</td>\n",
       "    </tr>\n",
       "    <tr>\n",
       "      <th>3</th>\n",
       "      <td>Feature</td>\n",
       "      <td>{'hash': 'a227bf96dbaf483b', 'number': '307', ...</td>\n",
       "      <td>{'type': 'Point', 'coordinates': [-122.6087817...</td>\n",
       "    </tr>\n",
       "    <tr>\n",
       "      <th>4</th>\n",
       "      <td>Feature</td>\n",
       "      <td>{'hash': '328d295cfcefcb43', 'number': '1310',...</td>\n",
       "      <td>{'type': 'Point', 'coordinates': [-122.600902,...</td>\n",
       "    </tr>\n",
       "  </tbody>\n",
       "</table>\n",
       "</div>"
      ],
      "text/plain": [
       "      type                                         properties  \\\n",
       "0  Feature  {'hash': 'd265fea1a509a250', 'number': '611', ...   \n",
       "1  Feature  {'hash': '162121c92fb93040', 'number': '306', ...   \n",
       "2  Feature  {'hash': 'e3a3493c55ef7ec7', 'number': '207', ...   \n",
       "3  Feature  {'hash': 'a227bf96dbaf483b', 'number': '307', ...   \n",
       "4  Feature  {'hash': '328d295cfcefcb43', 'number': '1310',...   \n",
       "\n",
       "                                            geometry  \n",
       "0  {'type': 'Point', 'coordinates': [-122.608996,...  \n",
       "1  {'type': 'Point', 'coordinates': [-122.6082999...  \n",
       "2  {'type': 'Point', 'coordinates': [-122.6089675...  \n",
       "3  {'type': 'Point', 'coordinates': [-122.6087817...  \n",
       "4  {'type': 'Point', 'coordinates': [-122.600902,...  "
      ]
     },
     "execution_count": 173,
     "metadata": {},
     "output_type": "execute_result"
    }
   ],
   "source": [
    "df_pierce_raw = pd.read_json(\"us_west_addresses_new/wa/pierce-addresses-county.geojson\",lines=True)\n",
    "print(df_pierce_raw.shape)\n",
    "df_pierce_raw.head()"
   ]
  },
  {
   "cell_type": "code",
   "execution_count": 174,
   "metadata": {},
   "outputs": [
    {
     "name": "stdout",
     "output_type": "stream",
     "text": [
      "(400002, 9)\n"
     ]
    },
    {
     "data": {
      "text/html": [
       "<div>\n",
       "<style scoped>\n",
       "    .dataframe tbody tr th:only-of-type {\n",
       "        vertical-align: middle;\n",
       "    }\n",
       "\n",
       "    .dataframe tbody tr th {\n",
       "        vertical-align: top;\n",
       "    }\n",
       "\n",
       "    .dataframe thead th {\n",
       "        text-align: right;\n",
       "    }\n",
       "</style>\n",
       "<table border=\"1\" class=\"dataframe\">\n",
       "  <thead>\n",
       "    <tr style=\"text-align: right;\">\n",
       "      <th></th>\n",
       "      <th>hash</th>\n",
       "      <th>number</th>\n",
       "      <th>street</th>\n",
       "      <th>unit</th>\n",
       "      <th>city</th>\n",
       "      <th>district</th>\n",
       "      <th>region</th>\n",
       "      <th>postcode</th>\n",
       "      <th>id</th>\n",
       "    </tr>\n",
       "  </thead>\n",
       "  <tbody>\n",
       "    <tr>\n",
       "      <th>0</th>\n",
       "      <td>d265fea1a509a250</td>\n",
       "      <td>611</td>\n",
       "      <td>3RD ST</td>\n",
       "      <td></td>\n",
       "      <td>Steilacoom</td>\n",
       "      <td></td>\n",
       "      <td>WA</td>\n",
       "      <td>98388</td>\n",
       "      <td></td>\n",
       "    </tr>\n",
       "    <tr>\n",
       "      <th>1</th>\n",
       "      <td>162121c92fb93040</td>\n",
       "      <td>306</td>\n",
       "      <td>GOVE ST</td>\n",
       "      <td></td>\n",
       "      <td>Steilacoom</td>\n",
       "      <td></td>\n",
       "      <td>WA</td>\n",
       "      <td>98388</td>\n",
       "      <td></td>\n",
       "    </tr>\n",
       "    <tr>\n",
       "      <th>2</th>\n",
       "      <td>e3a3493c55ef7ec7</td>\n",
       "      <td>207</td>\n",
       "      <td>3RD ST</td>\n",
       "      <td></td>\n",
       "      <td>Steilacoom</td>\n",
       "      <td></td>\n",
       "      <td>WA</td>\n",
       "      <td>98388</td>\n",
       "      <td></td>\n",
       "    </tr>\n",
       "    <tr>\n",
       "      <th>3</th>\n",
       "      <td>a227bf96dbaf483b</td>\n",
       "      <td>307</td>\n",
       "      <td>MARTIN ST</td>\n",
       "      <td></td>\n",
       "      <td>Steilacoom</td>\n",
       "      <td></td>\n",
       "      <td>WA</td>\n",
       "      <td>98388</td>\n",
       "      <td></td>\n",
       "    </tr>\n",
       "    <tr>\n",
       "      <th>4</th>\n",
       "      <td>328d295cfcefcb43</td>\n",
       "      <td>1310</td>\n",
       "      <td>RAINIER ST</td>\n",
       "      <td></td>\n",
       "      <td>Steilacoom</td>\n",
       "      <td></td>\n",
       "      <td>WA</td>\n",
       "      <td>98388</td>\n",
       "      <td></td>\n",
       "    </tr>\n",
       "  </tbody>\n",
       "</table>\n",
       "</div>"
      ],
      "text/plain": [
       "               hash number      street unit        city district region  \\\n",
       "0  d265fea1a509a250    611      3RD ST       Steilacoom              WA   \n",
       "1  162121c92fb93040    306     GOVE ST       Steilacoom              WA   \n",
       "2  e3a3493c55ef7ec7    207      3RD ST       Steilacoom              WA   \n",
       "3  a227bf96dbaf483b    307   MARTIN ST       Steilacoom              WA   \n",
       "4  328d295cfcefcb43   1310  RAINIER ST       Steilacoom              WA   \n",
       "\n",
       "  postcode id  \n",
       "0    98388     \n",
       "1    98388     \n",
       "2    98388     \n",
       "3    98388     \n",
       "4    98388     "
      ]
     },
     "execution_count": 174,
     "metadata": {},
     "output_type": "execute_result"
    }
   ],
   "source": [
    "df_pierce = pd.json_normalize(df_pierce_raw['properties'])\n",
    "print(df_pierce.shape)\n",
    "df_pierce.head()"
   ]
  },
  {
   "cell_type": "code",
   "execution_count": 176,
   "metadata": {},
   "outputs": [
    {
     "name": "stdout",
     "output_type": "stream",
     "text": [
      "(95474, 7)\n"
     ]
    },
    {
     "data": {
      "text/html": [
       "<div>\n",
       "<style scoped>\n",
       "    .dataframe tbody tr th:only-of-type {\n",
       "        vertical-align: middle;\n",
       "    }\n",
       "\n",
       "    .dataframe tbody tr th {\n",
       "        vertical-align: top;\n",
       "    }\n",
       "\n",
       "    .dataframe thead th {\n",
       "        text-align: right;\n",
       "    }\n",
       "</style>\n",
       "<table border=\"1\" class=\"dataframe\">\n",
       "  <thead>\n",
       "    <tr style=\"text-align: right;\">\n",
       "      <th></th>\n",
       "      <th>number</th>\n",
       "      <th>street</th>\n",
       "      <th>unit</th>\n",
       "      <th>city</th>\n",
       "      <th>district</th>\n",
       "      <th>region</th>\n",
       "      <th>postcode</th>\n",
       "    </tr>\n",
       "  </thead>\n",
       "  <tbody>\n",
       "    <tr>\n",
       "      <th>105</th>\n",
       "      <td>1414</td>\n",
       "      <td>COMMERCIAL ST</td>\n",
       "      <td>#8</td>\n",
       "      <td>Steilacoom</td>\n",
       "      <td></td>\n",
       "      <td>WA</td>\n",
       "      <td>98388</td>\n",
       "    </tr>\n",
       "    <tr>\n",
       "      <th>128</th>\n",
       "      <td>215</td>\n",
       "      <td>WILKES ST</td>\n",
       "      <td>#104</td>\n",
       "      <td>Steilacoom</td>\n",
       "      <td></td>\n",
       "      <td>WA</td>\n",
       "      <td>98388</td>\n",
       "    </tr>\n",
       "    <tr>\n",
       "      <th>157</th>\n",
       "      <td>2604</td>\n",
       "      <td>LEXINGTON ST</td>\n",
       "      <td>#1/2</td>\n",
       "      <td>Steilacoom</td>\n",
       "      <td></td>\n",
       "      <td>WA</td>\n",
       "      <td>98388</td>\n",
       "    </tr>\n",
       "    <tr>\n",
       "      <th>181</th>\n",
       "      <td>2606</td>\n",
       "      <td>LEXINGTON ST</td>\n",
       "      <td>#1/2</td>\n",
       "      <td>Steilacoom</td>\n",
       "      <td></td>\n",
       "      <td>WA</td>\n",
       "      <td>98388</td>\n",
       "    </tr>\n",
       "    <tr>\n",
       "      <th>269</th>\n",
       "      <td>2002</td>\n",
       "      <td>LAFAYETTE ST</td>\n",
       "      <td>#1</td>\n",
       "      <td>Steilacoom</td>\n",
       "      <td></td>\n",
       "      <td>WA</td>\n",
       "      <td>98388</td>\n",
       "    </tr>\n",
       "  </tbody>\n",
       "</table>\n",
       "</div>"
      ],
      "text/plain": [
       "    number         street  unit        city district region postcode\n",
       "105   1414  COMMERCIAL ST    #8  Steilacoom              WA    98388\n",
       "128    215      WILKES ST  #104  Steilacoom              WA    98388\n",
       "157   2604   LEXINGTON ST  #1/2  Steilacoom              WA    98388\n",
       "181   2606   LEXINGTON ST  #1/2  Steilacoom              WA    98388\n",
       "269   2002   LAFAYETTE ST    #1  Steilacoom              WA    98388"
      ]
     },
     "execution_count": 176,
     "metadata": {},
     "output_type": "execute_result"
    }
   ],
   "source": [
    "df_pierce_apts = df_pierce[df_pierce['unit']!=''].copy().drop(['hash','id'],axis=1)\n",
    "print(df_pierce_apts.shape)\n",
    "df_pierce_apts.head()"
   ]
  },
  {
   "cell_type": "code",
   "execution_count": 177,
   "metadata": {},
   "outputs": [
    {
     "data": {
      "text/plain": [
       "Tacoma              40719\n",
       "Lakewood            13912\n",
       "Puyallup             8353\n",
       "South Hill           6259\n",
       "University Place     5617\n",
       "Name: city, dtype: int64"
      ]
     },
     "execution_count": 177,
     "metadata": {},
     "output_type": "execute_result"
    }
   ],
   "source": [
    "df_pierce_apts['city'].value_counts().head()"
   ]
  },
  {
   "cell_type": "code",
   "execution_count": 178,
   "metadata": {},
   "outputs": [
    {
     "name": "stdout",
     "output_type": "stream",
     "text": [
      "(10909, 5)\n"
     ]
    },
    {
     "data": {
      "text/html": [
       "<div>\n",
       "<style scoped>\n",
       "    .dataframe tbody tr th:only-of-type {\n",
       "        vertical-align: middle;\n",
       "    }\n",
       "\n",
       "    .dataframe tbody tr th {\n",
       "        vertical-align: top;\n",
       "    }\n",
       "\n",
       "    .dataframe thead th {\n",
       "        text-align: right;\n",
       "    }\n",
       "</style>\n",
       "<table border=\"1\" class=\"dataframe\">\n",
       "  <thead>\n",
       "    <tr style=\"text-align: right;\">\n",
       "      <th></th>\n",
       "      <th>number</th>\n",
       "      <th>street</th>\n",
       "      <th>city</th>\n",
       "      <th>postcode</th>\n",
       "      <th>n</th>\n",
       "    </tr>\n",
       "  </thead>\n",
       "  <tbody>\n",
       "    <tr>\n",
       "      <th>0</th>\n",
       "      <td>1</td>\n",
       "      <td>BROADWAY</td>\n",
       "      <td>Tacoma</td>\n",
       "      <td>98402</td>\n",
       "      <td>61</td>\n",
       "    </tr>\n",
       "    <tr>\n",
       "      <th>1</th>\n",
       "      <td>1</td>\n",
       "      <td>COUNTRY CLUB DR SW</td>\n",
       "      <td>Lakewood</td>\n",
       "      <td>98498</td>\n",
       "      <td>1</td>\n",
       "    </tr>\n",
       "    <tr>\n",
       "      <th>2</th>\n",
       "      <td>1</td>\n",
       "      <td>N BROADWAY</td>\n",
       "      <td>Tacoma</td>\n",
       "      <td>98403</td>\n",
       "      <td>31</td>\n",
       "    </tr>\n",
       "    <tr>\n",
       "      <th>3</th>\n",
       "      <td>1</td>\n",
       "      <td>N STADIUM WAY</td>\n",
       "      <td>Tacoma</td>\n",
       "      <td>98403</td>\n",
       "      <td>16</td>\n",
       "    </tr>\n",
       "    <tr>\n",
       "      <th>4</th>\n",
       "      <td>1</td>\n",
       "      <td>ST HELENS AVE</td>\n",
       "      <td>Tacoma</td>\n",
       "      <td>98402</td>\n",
       "      <td>20</td>\n",
       "    </tr>\n",
       "  </tbody>\n",
       "</table>\n",
       "</div>"
      ],
      "text/plain": [
       "  number              street      city postcode   n\n",
       "0      1            BROADWAY    Tacoma    98402  61\n",
       "1      1  COUNTRY CLUB DR SW  Lakewood    98498   1\n",
       "2      1          N BROADWAY    Tacoma    98403  31\n",
       "3      1       N STADIUM WAY    Tacoma    98403  16\n",
       "4      1       ST HELENS AVE    Tacoma    98402  20"
      ]
     },
     "execution_count": 178,
     "metadata": {},
     "output_type": "execute_result"
    }
   ],
   "source": [
    "df_pierce_unit_counts = df_pierce_apts.drop_duplicates(subset=['number','street','city','postcode','unit']).groupby(['number','street','city','postcode']).size().reset_index().rename(columns={0:\"n\"})\n",
    "print(df_pierce_unit_counts.shape)\n",
    "df_pierce_unit_counts.head()"
   ]
  },
  {
   "cell_type": "code",
   "execution_count": 179,
   "metadata": {},
   "outputs": [
    {
     "data": {
      "text/html": [
       "<div>\n",
       "<style scoped>\n",
       "    .dataframe tbody tr th:only-of-type {\n",
       "        vertical-align: middle;\n",
       "    }\n",
       "\n",
       "    .dataframe tbody tr th {\n",
       "        vertical-align: top;\n",
       "    }\n",
       "\n",
       "    .dataframe thead th {\n",
       "        text-align: right;\n",
       "    }\n",
       "</style>\n",
       "<table border=\"1\" class=\"dataframe\">\n",
       "  <thead>\n",
       "    <tr style=\"text-align: right;\">\n",
       "      <th></th>\n",
       "      <th>units</th>\n",
       "      <th>buildings</th>\n",
       "    </tr>\n",
       "  </thead>\n",
       "  <tbody>\n",
       "    <tr>\n",
       "      <th>0</th>\n",
       "      <td>1</td>\n",
       "      <td>1853</td>\n",
       "    </tr>\n",
       "    <tr>\n",
       "      <th>1</th>\n",
       "      <td>2</td>\n",
       "      <td>1815</td>\n",
       "    </tr>\n",
       "    <tr>\n",
       "      <th>2</th>\n",
       "      <td>3</td>\n",
       "      <td>751</td>\n",
       "    </tr>\n",
       "    <tr>\n",
       "      <th>3</th>\n",
       "      <td>4</td>\n",
       "      <td>2330</td>\n",
       "    </tr>\n",
       "    <tr>\n",
       "      <th>4</th>\n",
       "      <td>5</td>\n",
       "      <td>268</td>\n",
       "    </tr>\n",
       "    <tr>\n",
       "      <th>5</th>\n",
       "      <td>6</td>\n",
       "      <td>832</td>\n",
       "    </tr>\n",
       "    <tr>\n",
       "      <th>6</th>\n",
       "      <td>7</td>\n",
       "      <td>128</td>\n",
       "    </tr>\n",
       "    <tr>\n",
       "      <th>7</th>\n",
       "      <td>8</td>\n",
       "      <td>646</td>\n",
       "    </tr>\n",
       "    <tr>\n",
       "      <th>8</th>\n",
       "      <td>9</td>\n",
       "      <td>114</td>\n",
       "    </tr>\n",
       "    <tr>\n",
       "      <th>9</th>\n",
       "      <td>10</td>\n",
       "      <td>217</td>\n",
       "    </tr>\n",
       "    <tr>\n",
       "      <th>10</th>\n",
       "      <td>11</td>\n",
       "      <td>71</td>\n",
       "    </tr>\n",
       "    <tr>\n",
       "      <th>11</th>\n",
       "      <td>12</td>\n",
       "      <td>587</td>\n",
       "    </tr>\n",
       "    <tr>\n",
       "      <th>12</th>\n",
       "      <td>13</td>\n",
       "      <td>43</td>\n",
       "    </tr>\n",
       "    <tr>\n",
       "      <th>13</th>\n",
       "      <td>14</td>\n",
       "      <td>88</td>\n",
       "    </tr>\n",
       "    <tr>\n",
       "      <th>14</th>\n",
       "      <td>15</td>\n",
       "      <td>58</td>\n",
       "    </tr>\n",
       "    <tr>\n",
       "      <th>15</th>\n",
       "      <td>16</td>\n",
       "      <td>132</td>\n",
       "    </tr>\n",
       "    <tr>\n",
       "      <th>16</th>\n",
       "      <td>17</td>\n",
       "      <td>31</td>\n",
       "    </tr>\n",
       "    <tr>\n",
       "      <th>17</th>\n",
       "      <td>18</td>\n",
       "      <td>145</td>\n",
       "    </tr>\n",
       "    <tr>\n",
       "      <th>18</th>\n",
       "      <td>19</td>\n",
       "      <td>21</td>\n",
       "    </tr>\n",
       "    <tr>\n",
       "      <th>19</th>\n",
       "      <td>20</td>\n",
       "      <td>78</td>\n",
       "    </tr>\n",
       "    <tr>\n",
       "      <th>20</th>\n",
       "      <td>21</td>\n",
       "      <td>18</td>\n",
       "    </tr>\n",
       "    <tr>\n",
       "      <th>21</th>\n",
       "      <td>22</td>\n",
       "      <td>19</td>\n",
       "    </tr>\n",
       "    <tr>\n",
       "      <th>22</th>\n",
       "      <td>23</td>\n",
       "      <td>17</td>\n",
       "    </tr>\n",
       "    <tr>\n",
       "      <th>23</th>\n",
       "      <td>24</td>\n",
       "      <td>82</td>\n",
       "    </tr>\n",
       "    <tr>\n",
       "      <th>24</th>\n",
       "      <td>25</td>\n",
       "      <td>10</td>\n",
       "    </tr>\n",
       "  </tbody>\n",
       "</table>\n",
       "</div>"
      ],
      "text/plain": [
       "    units  buildings\n",
       "0       1       1853\n",
       "1       2       1815\n",
       "2       3        751\n",
       "3       4       2330\n",
       "4       5        268\n",
       "5       6        832\n",
       "6       7        128\n",
       "7       8        646\n",
       "8       9        114\n",
       "9      10        217\n",
       "10     11         71\n",
       "11     12        587\n",
       "12     13         43\n",
       "13     14         88\n",
       "14     15         58\n",
       "15     16        132\n",
       "16     17         31\n",
       "17     18        145\n",
       "18     19         21\n",
       "19     20         78\n",
       "20     21         18\n",
       "21     22         19\n",
       "22     23         17\n",
       "23     24         82\n",
       "24     25         10"
      ]
     },
     "execution_count": 179,
     "metadata": {},
     "output_type": "execute_result"
    }
   ],
   "source": [
    "pierce_unit_count_freqs = pd.DataFrame(df_pierce_unit_counts['n'].value_counts().sort_index()).reset_index()\n",
    "pierce_unit_count_freqs.columns = ['units','buildings']\n",
    "pierce_unit_count_freqs.head(25)"
   ]
  },
  {
   "cell_type": "code",
   "execution_count": 183,
   "metadata": {},
   "outputs": [
    {
     "data": {
      "image/png": "[encoded data removed]",
      "text/plain": [
       "<Figure size 640x480 with 1 Axes>"
      ]
     },
     "metadata": {},
     "output_type": "display_data"
    },
    {
     "data": {
      "text/plain": [
       "<ggplot: (8762928627854)>"
      ]
     },
     "execution_count": 183,
     "metadata": {},
     "output_type": "execute_result"
    }
   ],
   "source": [
    "(ggplot(pierce_unit_count_freqs.query('units<40&units>1'),aes(x='units',y='buildings')) + \n",
    "geom_bar(stat='identity') +\n",
    "scale_x_continuous(breaks=list(range(0,40,2))) +\n",
    "labs(x='Units per Apartment Building',y='Residential Buildings',\n",
    "    title = 'Distribution of units per building: Pierce County, WA'))"
   ]
  },
  {
   "cell_type": "code",
   "execution_count": 189,
   "metadata": {},
   "outputs": [
    {
     "data": {
      "text/plain": [
       "['city_of_pasco-addresses-city.geojson',\n",
       " 'garfield-addresses-county.geojson',\n",
       " 'city_of_tacoma-addresses-city.geojson',\n",
       " 'spokane-addresses-county.geojson',\n",
       " 'walla_walla-addresses-county.geojson',\n",
       " 'thurston-addresses-county.geojson',\n",
       " 'city_of_bellevue-addresses-city.geojson',\n",
       " 'kittitas-parcels-county.geojson',\n",
       " 'city_of_richland-addresses-city.geojson',\n",
       " 'snohomish_county-addresses-county.geojson',\n",
       " 'clallam-parcels-county.geojson',\n",
       " 'cowlitz-addresses-county.geojson',\n",
       " 'skagit-parcels-county.geojson',\n",
       " 'mason-addresses-county.geojson',\n",
       " 'jefferson-addresses-county.geojson',\n",
       " 'pacific-parcels-county.geojson',\n",
       " 'spokane-parcels-county.geojson',\n",
       " 'grant-addresses-county.geojson',\n",
       " 'city_of_bothell-parcels-city.geojson',\n",
       " 'king-addresses-county.geojson',\n",
       " 'city_of_bothell-addresses-city.geojson',\n",
       " 'pierce-addresses-county.geojson',\n",
       " 'cowlitz-parcels-county.geojson',\n",
       " 'ferry-addresses-county.geojson',\n",
       " 'grays_harbor-addresses-county.geojson',\n",
       " 'douglas-addresses-county.geojson',\n",
       " 'clark-addresses-county.geojson',\n",
       " 'san_juan-addresses-county.geojson',\n",
       " 'city_of_spokane-addresses-city.geojson',\n",
       " 'franklin-addresses-county.geojson',\n",
       " 'chelan-addresses-county.geojson',\n",
       " 'pend_oreille-parcels-county.geojson',\n",
       " 'pend_oreille-addresses-county.geojson',\n",
       " 'kittitas-addresses-county.geojson',\n",
       " 'city_of_bellingham-addresses-city.geojson',\n",
       " 'city_of_snohomish-addresses-city.geojson',\n",
       " 'snohomish-addresses-county.geojson',\n",
       " 'yakima-addresses-county.geojson',\n",
       " 'walla_walla-parcels-county.geojson',\n",
       " 'benton-addresses-county.geojson',\n",
       " 'city_of_bothell-buildings-city.geojson',\n",
       " 'clallam-addresses-county.geojson',\n",
       " 'asotin-addresses-city.geojson',\n",
       " 'bellingham-addresses-city.geojson',\n",
       " 'city_of_snohomish-parcels-city.geojson',\n",
       " 'whatcom-addresses-county.geojson',\n",
       " 'skagit-addresses-county.geojson',\n",
       " 'lewis-addresses-county.geojson',\n",
       " 'douglas-parcels-county.geojson',\n",
       " 'island-addresses-county.geojson',\n",
       " 'kitsap-addresses-county.geojson',\n",
       " 'pacific-addresses-county.geojson',\n",
       " 'okanogan-addresses-county.geojson',\n",
       " 'ferry-parcels-county.geojson']"
      ]
     },
     "execution_count": 189,
     "metadata": {},
     "output_type": "execute_result"
    }
   ],
   "source": [
    "wa_files = os.listdir(\"us_west_addresses_new/wa/\")\n",
    "wa_files = [x for x in wa_files if x.endswith(\"json\")]\n",
    "wa_files"
   ]
  },
  {
   "cell_type": "code",
   "execution_count": null,
   "metadata": {},
   "outputs": [],
   "source": []
  }
 ],
 "metadata": {
  "kernelspec": {
   "display_name": "Python 3",
   "language": "python",
   "name": "python3"
  },
  "language_info": {
   "codemirror_mode": {
    "name": "ipython",
    "version": 3
   },
   "file_extension": ".py",
   "mimetype": "text/x-python",
   "name": "python",
   "nbconvert_exporter": "python",
   "pygments_lexer": "ipython3",
   "version": "3.8.5"
  }
 },
 "nbformat": 4,
 "nbformat_minor": 4
}

{
 "cells": [
  {
   "cell_type": "code",
   "execution_count": null,
   "metadata": {},
   "outputs": [],
   "source": [
    "import pandas as pd\n",
    "import os\n",
    "from plotnine import *"
   ]
  },
  {
   "cell_type": "code",
   "execution_count": null,
   "metadata": {},
   "outputs": [],
   "source": [
    "df = pd.read_excel(\"Local Inclusionary Housing Policies.xlsx\",sheet_name=\"data\",skiprows=1)\n",
    "df['Government Name'] = df['Government Name'].str.replace(\"City of\",\"\").str.replace(\"City\",\"\").str.strip()\n",
    "df.head()"
   ]
  },
  {
   "cell_type": "code",
   "execution_count": null,
   "metadata": {},
   "outputs": [],
   "source": [
    "df_2 = df[df['Minimum Project Size'].notna()].copy()\n",
    "df_2.shape"
   ]
  },
  {
   "cell_type": "code",
   "execution_count": null,
   "metadata": {},
   "outputs": [],
   "source": [
    "df_2['Minimum Project Size'].unique()"
   ]
  },
  {
   "cell_type": "code",
   "execution_count": null,
   "metadata": {},
   "outputs": [],
   "source": [
    "df_3 = df_2[df_2['Minimum Project Size'].str.lower().str.contains(\"units\")].copy()\n",
    "df_3.head()"
   ]
  },
  {
   "cell_type": "code",
   "execution_count": null,
   "metadata": {},
   "outputs": [],
   "source": [
    "df_pops = pd.read_csv(\"https://raw.githubusercontent.com/plotly/datasets/master/us-cities-top-1k.csv\")\n",
    "df_pops = df_pops[df_pops['Population']>=200000][['City','State','Population']]\n",
    "df_pops.head()"
   ]
  },
  {
   "cell_type": "code",
   "execution_count": null,
   "metadata": {},
   "outputs": [],
   "source": [
    "df_pops[df_pops['State']=='New Jersey']"
   ]
  },
  {
   "cell_type": "code",
   "execution_count": null,
   "metadata": {
    "scrolled": false
   },
   "outputs": [],
   "source": [
    "df_merged = df_3.merge(df_pops,how='inner',left_on='Government Name',right_on='City').sort_values(\"Population\",ascending=False)\n",
    "df_merged[['Program ID','Population','Year Program Adopted','Year Program Updated','Program Applicable Areas','Minimum Project Size','Minimum Set-aside','Incentive','Affordable Housing Compliance Option','Total Affordable Units']]"
   ]
  },
  {
   "cell_type": "markdown",
   "metadata": {},
   "source": [
    "# Combining with Building Data"
   ]
  },
  {
   "cell_type": "code",
   "execution_count": null,
   "metadata": {},
   "outputs": [],
   "source": [
    "os.listdir(\"../data/\")"
   ]
  },
  {
   "cell_type": "code",
   "execution_count": null,
   "metadata": {},
   "outputs": [],
   "source": [
    "df_nj = pd.read_csv(\"../data/NJ_Construction_Permit_Data.csv\",\n",
    "                    usecols = ['Municipality Name','MuniType','County',\n",
    "                                   'Permit Status Description','Permit Date','Certificate Date',\n",
    "                                   'Permit Type Description','Certificate Type Description',\n",
    "                                   'Sale Units Gained','Rental Units Gained','Use Group Description'])\n",
    "df_nj['Units Gained'] = df_nj['Sale Units Gained']+df_nj['Rental Units Gained']\n",
    "df_nj = df_nj[df_nj['Units Gained']>=2].copy()\n",
    "print(df_nj.shape)\n",
    "df_nj.head()"
   ]
  },
  {
   "cell_type": "code",
   "execution_count": null,
   "metadata": {},
   "outputs": [],
   "source": [
    "df_sf = pd.read_csv(\"../data/SF_Building_Permits.csv\",\n",
    "                   usecols = ['Permit Type Definition','Permit Creation Date',\n",
    "                             'Current Status',\n",
    "                              'Current Status Date',\n",
    "                              'Filed Date','Issued Date','Completed Date','First Construction Document Date',\n",
    "                             'Existing Units','Proposed Units'])\n",
    "df_sf = df_sf[(df_sf['Proposed Units']>=3)&(df_sf['Proposed Units']!=df_sf['Existing Units'])].copy()\n",
    "df_sf['Permit Creation Date'] = pd.to_datetime(df_sf['Permit Creation Date'])\n",
    "print(df_sf.shape)\n",
    "df_sf.head()"
   ]
  },
  {
   "cell_type": "code",
   "execution_count": null,
   "metadata": {},
   "outputs": [],
   "source": [
    "df_pd = pd.read_csv(\"../data/PDX_Residential_Building_Permits.csv\",\n",
    "                   usecols = ['STATUS','YEAR_','NEWCLASS','NEWTYPE','NEW_UNITS','IS_ADU'])\n",
    "df_pd = df_pd[(df_pd['NEW_UNITS']>=2)&(df_pd['IS_ADU']==False)].drop(\"IS_ADU\",axis=1).copy()\n",
    "print(df_pd.shape)\n",
    "df_pd.head()"
   ]
  },
  {
   "cell_type": "code",
   "execution_count": null,
   "metadata": {},
   "outputs": [],
   "source": [
    "df_dc = pd.read_csv(\"../data/DC_appraisals.csv\",usecols=['NUM_UNITS','AYB','YR_RMDL','EYB'])\n",
    "print(df_dc.shape)\n",
    "df_dc.head()"
   ]
  },
  {
   "cell_type": "code",
   "execution_count": null,
   "metadata": {},
   "outputs": [],
   "source": [
    "df_cc = pd.read_csv(\"../data/Cook_appraisals.csv\",usecols=['Town Code','Census Tract','Number of Units','Age','Apartments'])\n",
    "# Age = 10 could mean NA, need to figure out how to distinguish, maybe just drop\n",
    "df_cc = df_cc[df_cc['Number of Units']>=2].copy()\n",
    "print(df_cc.shape)\n",
    "df_cc.head()"
   ]
  },
  {
   "cell_type": "code",
   "execution_count": null,
   "metadata": {},
   "outputs": [],
   "source": [
    "df_md = pd.read_csv(\"../data/MD_appraisals.csv\",usecols=['CM_BLDUNTS','OBJECTID','CT2010'])\n",
    "df_md_2 = pd.read_csv(\"../data/MD_appraisal_details.csv\",usecols=['OBJECTID','BL_YEARBLT','JURSCODE'])\n",
    "df_md = df_md[df_md['CM_BLDUNTS']>=2].copy()\n",
    "df_md = df_md.merge(df_md_2,on='OBJECTID',how='inner')\n",
    "print(df_md.shape)\n",
    "df_md.head()"
   ]
  },
  {
   "cell_type": "markdown",
   "metadata": {},
   "source": [
    "# EDA"
   ]
  },
  {
   "cell_type": "code",
   "execution_count": null,
   "metadata": {},
   "outputs": [],
   "source": [
    "df_nj['Municipality Name'].value_counts().head()"
   ]
  },
  {
   "cell_type": "code",
   "execution_count": null,
   "metadata": {},
   "outputs": [],
   "source": [
    "df_newark = df_nj[df_nj['Municipality Name']=='NEWARK']\n",
    "df_newark.head()"
   ]
  },
  {
   "cell_type": "code",
   "execution_count": null,
   "metadata": {},
   "outputs": [],
   "source": [
    "df_newark['Units Gained'].value_counts()"
   ]
  },
  {
   "cell_type": "code",
   "execution_count": null,
   "metadata": {},
   "outputs": [],
   "source": [
    "def plot_unit_dist(data,unit_col='Units'):\n",
    "    counts = pd.DataFrame(data[unit_col].value_counts()).reset_index()\n",
    "    counts.columns = ['Units','Freq']\n",
    "    plot = (ggplot(counts,aes(x='Units',y='Freq')) + \n",
    "           geom_bar(stat='identity'))\n",
    "    return(plot)"
   ]
  },
  {
   "cell_type": "markdown",
   "metadata": {},
   "source": [
    "## SF"
   ]
  },
  {
   "cell_type": "code",
   "execution_count": null,
   "metadata": {},
   "outputs": [],
   "source": [
    "plot_unit_dist(df_sf[(df_sf['Proposed Units']<50)&(df_sf['Proposed Units']>=3)],unit_col='Proposed Units')"
   ]
  },
  {
   "cell_type": "code",
   "execution_count": null,
   "metadata": {},
   "outputs": [],
   "source": [
    "df_sf['Current Status'].value_counts()"
   ]
  },
  {
   "cell_type": "code",
   "execution_count": null,
   "metadata": {},
   "outputs": [],
   "source": [
    "plot_unit_dist(df_sf[(df_sf['Proposed Units']<=40)&(df_sf['Proposed Units']>=5)&(df_sf['Permit Creation Date']>='06/01/2016')&(df_sf['Current Status'].isin(['complete','issued']))],unit_col='Proposed Units')"
   ]
  },
  {
   "cell_type": "markdown",
   "metadata": {},
   "source": [
    "## Portland"
   ]
  },
  {
   "cell_type": "code",
   "execution_count": null,
   "metadata": {},
   "outputs": [],
   "source": [
    "plot_unit_dist(df_pd.query(\"NEW_UNITS>=5&NEW_UNITS<=50&YEAR_>=2017\"),\"NEW_UNITS\")"
   ]
  },
  {
   "cell_type": "code",
   "execution_count": null,
   "metadata": {},
   "outputs": [],
   "source": [
    "plot_unit_dist(df_pd.query(\"NEW_UNITS>=5&NEW_UNITS<=50&YEAR_<2017\"),\"NEW_UNITS\")"
   ]
  },
  {
   "cell_type": "code",
   "execution_count": null,
   "metadata": {},
   "outputs": [],
   "source": []
  }
 ],
 "metadata": {
  "kernelspec": {
   "display_name": "Python 3",
   "language": "python",
   "name": "python3"
  },
  "language_info": {
   "codemirror_mode": {
    "name": "ipython",
    "version": 3
   },
   "file_extension": ".py",
   "mimetype": "text/x-python",
   "name": "python",
   "nbconvert_exporter": "python",
   "pygments_lexer": "ipython3",
   "version": "3.8.5"
  }
 },
 "nbformat": 4,
 "nbformat_minor": 4
}
